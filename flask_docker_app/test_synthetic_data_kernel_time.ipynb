{
 "cells": [
  {
   "cell_type": "markdown",
   "id": "391aedf2",
   "metadata": {},
   "source": [
    "## See how many GPUs we have"
   ]
  },
  {
   "cell_type": "code",
   "execution_count": 1,
   "id": "adc2ad12",
   "metadata": {},
   "outputs": [
    {
     "name": "stdout",
     "output_type": "stream",
     "text": [
      "GPU 0 (NVIDIA A10G):\n",
      "  Total Memory: 21.99 GB\n",
      "  Used Memory: 0.00 GB\n",
      "  Available Memory: 21.99 GB\n"
     ]
    }
   ],
   "source": [
    "import torch\n",
    "\n",
    "def check_gpu_memory_simple():\n",
    "    if not torch.cuda.is_available():\n",
    "        print(\"No available CUDA GPU\")\n",
    "        return\n",
    "    \n",
    "    for i in range(torch.cuda.device_count()):\n",
    "        name = torch.cuda.get_device_name(i)\n",
    "        total = torch.cuda.get_device_properties(i).total_memory / (1024 ** 3)  # GB\n",
    "        allocated = torch.cuda.memory_allocated(i) / (1024 ** 3)  # GB\n",
    "        free = (torch.cuda.get_device_properties(i).total_memory - torch.cuda.memory_reserved(i)) / (1024 ** 3)  # GB\n",
    "        \n",
    "        print(f\"GPU {i} ({name}):\")\n",
    "        print(f\"  Total Memory: {total:.2f} GB\")\n",
    "        print(f\"  Used Memory: {allocated:.2f} GB\")\n",
    "        print(f\"  Available Memory: {free:.2f} GB\")\n",
    "\n",
    "check_gpu_memory_simple()"
   ]
  },
  {
   "cell_type": "markdown",
   "id": "3b93a302",
   "metadata": {},
   "source": [
    "## Plot Expert load function"
   ]
  },
  {
   "cell_type": "code",
   "execution_count": 2,
   "id": "699603bd",
   "metadata": {},
   "outputs": [],
   "source": [
    "from collections import Counter\n",
    "import matplotlib.pyplot as plt\n",
    "import os\n",
    " \n",
    "os.environ[\"CUDA_VISIBLE_DEVICES\"] = \"0\"\n",
    "\n",
    "def my_plot(topk_ids, selected=None, new_id=None):\n",
    "    count = Counter(topk_ids.flatten().tolist())\n",
    "    sorted_counts = sorted(count.items(), key=lambda x: x[0])\n",
    "    elements = [k for k, v in sorted_counts]\n",
    "    values = [v for k, v in sorted_counts] \n",
    "    colors = [  'skyblue' for v in values]\n",
    "    if selected != None:\n",
    "        for s in selected:\n",
    "            colors[s] = 'green'\n",
    "    if new_id!= None:\n",
    "        for n in new_id:\n",
    "            colors[n] = 'red'\n",
    "    # 绘制柱状图\n",
    "    plt.figure(figsize=(8, 5))\n",
    "    plt.bar(elements, values, color=colors)\n",
    "    plt.title('Frequency of Each Element', fontsize=14)\n",
    "    plt.xlabel('Element', fontsize=12)\n",
    "    plt.ylabel('Frequency', fontsize=12)\n",
    "    for i, value in enumerate(values):\n",
    "        plt.text(elements[i], value + 0.1, str(value), ha='center', va='bottom', fontsize=10)\n",
    "\n",
    "    plt.grid(True, linestyle='--', alpha=0.5)\n",
    "    plt.tight_layout()\n",
    "    plt.show()\n"
   ]
  },
  {
   "cell_type": "markdown",
   "id": "34ebf521",
   "metadata": {},
   "source": [
    "## Initialize workers"
   ]
  },
  {
   "cell_type": "code",
   "execution_count": 3,
   "id": "571b9add",
   "metadata": {},
   "outputs": [
    {
     "name": "stderr",
     "output_type": "stream",
     "text": [
      "/home/ubuntu/vllm_test_field/myvllm/lib/python3.12/site-packages/tqdm/auto.py:21: TqdmWarning: IProgress not found. Please update jupyter and ipywidgets. See https://ipywidgets.readthedocs.io/en/stable/user_install.html\n",
      "  from .autonotebook import tqdm as notebook_tqdm\n"
     ]
    },
    {
     "name": "stdout",
     "output_type": "stream",
     "text": [
      "INFO 05-11 03:39:16 [__init__.py:239] Automatically detected platform cuda.\n"
     ]
    },
    {
     "name": "stderr",
     "output_type": "stream",
     "text": [
      "2025-05-11 03:39:17,146\tINFO util.py:154 -- Missing packages: ['ipywidgets']. Run `pip install -U ipywidgets`, then restart the notebook server for rich notebook output.\n"
     ]
    },
    {
     "name": "stdout",
     "output_type": "stream",
     "text": [
      "[{'world_size': 4, 'rank': 0}, {'world_size': 4, 'rank': 1}, {'world_size': 4, 'rank': 2}, {'world_size': 4, 'rank': 3}]\n"
     ]
    }
   ],
   "source": [
    "\n",
    "from vllm.model_executor.layers.fused_moe.fused_moe import fused_experts_impl \n",
    "import transformers\n",
    "from transformers import Qwen2MoeConfig \n",
    "import torch\n",
    "import os\n",
    "\n",
    "# 假设已经加载了 model\n",
    "from transformers import AutoTokenizer, AutoModelForCausalLM\n",
    "\n",
    "model_name = \"Qwen/Qwen1.5-MoE-A2.7B\"\n",
    "config = transformers.AutoConfig.from_pretrained(\"Qwen/Qwen1.5-MoE-A2.7B\")\n",
    "\n",
    "\n",
    "WORLD_SIZE =  4\n",
    "TOKEN_NUM= 1000\n",
    "workers = [dict() for _ in range(WORLD_SIZE)]\n",
    "for i in range(0,len(workers)):\n",
    "    workers[i][\"world_size\"] = WORLD_SIZE\n",
    "    workers[i][\"rank\"] =   i\n",
    "print(workers)\n",
    " \n"
   ]
  },
  {
   "cell_type": "markdown",
   "id": "2db00c25",
   "metadata": {},
   "source": [
    "## Create Docker Image for future use"
   ]
  },
  {
   "cell_type": "code",
   "execution_count": 4,
   "id": "b79d933b",
   "metadata": {},
   "outputs": [
    {
     "name": "stdout",
     "output_type": "stream",
     "text": [
      "\u001b[1A\u001b[1B\u001b[0G\u001b[?25l[+] Building 0.0s (0/1)                                          docker:default\n",
      " => [internal] load build definition from Dockerfile                       0.0s\n",
      "\u001b[?25h"
     ]
    },
    {
     "name": "stdout",
     "output_type": "stream",
     "text": [
      "\u001b[1A\u001b[1A\u001b[0G\u001b[?25l[+] Building 0.2s (1/2)                                          docker:default\n",
      "\u001b[34m => [internal] load build definition from Dockerfile                       0.0s\n",
      "\u001b[0m\u001b[34m => => transferring dockerfile: 851B                                       0.0s\n",
      "\u001b[0m => [internal] load metadata for docker.io/nvidia/cuda:12.1.1-base-ubuntu  0.2s\n",
      "\u001b[?25h\u001b[1A\u001b[1A\u001b[1A\u001b[1A\u001b[0G\u001b[?25l[+] Building 0.2s (2/2)                                          docker:default\n",
      "\u001b[34m => [internal] load build definition from Dockerfile                       0.0s\n",
      "\u001b[0m\u001b[34m => => transferring dockerfile: 851B                                       0.0s\n",
      "\u001b[0m\u001b[34m => [internal] load metadata for docker.io/nvidia/cuda:12.1.1-base-ubuntu  0.2s\n",
      "\u001b[0m\u001b[?25h\u001b[1A\u001b[1A\u001b[1A\u001b[1A\u001b[0G\u001b[?25l[+] Building 0.3s (11/11) FINISHED                               docker:default\n",
      "\u001b[34m => [internal] load build definition from Dockerfile                       0.0s\n",
      "\u001b[0m\u001b[34m => => transferring dockerfile: 851B                                       0.0s\n",
      "\u001b[0m\u001b[34m => [internal] load metadata for docker.io/nvidia/cuda:12.1.1-base-ubuntu  0.2s\n",
      "\u001b[0m\u001b[34m => [internal] load .dockerignore                                          0.0s\n",
      "\u001b[0m\u001b[34m => => transferring context: 2B                                            0.0s\n",
      "\u001b[0m\u001b[34m => [1/6] FROM docker.io/nvidia/cuda:12.1.1-base-ubuntu22.04@sha256:457a4  0.0s\n",
      "\u001b[0m\u001b[34m => [internal] load build context                                          0.0s\n",
      "\u001b[0m\u001b[34m => => transferring context: 31B                                           0.0s\n",
      "\u001b[0m\u001b[34m => CACHED [2/6] WORKDIR /app                                              0.0s\n",
      "\u001b[0m\u001b[34m => CACHED [3/6] RUN apt-get update && apt-get install -y git python3 pyt  0.0s\n",
      "\u001b[0m\u001b[34m => CACHED [4/6] RUN pip3 install -v flask                                 0.0s\n",
      "\u001b[0m\u001b[34m => CACHED [5/6] RUN pip3 install -v vllm                                  0.0s\n",
      "\u001b[0m\u001b[34m => CACHED [6/6] COPY expert.py /app                                       0.0s\n",
      "\u001b[0m\u001b[34m => exporting to image                                                     0.0s\n",
      "\u001b[0m\u001b[34m => => exporting layers                                                    0.0s\n",
      "\u001b[0m\u001b[34m => => writing image sha256:56bd95ad7459b9ab9971248682226cfcee4bf5f8d2485  0.0s\n",
      "\u001b[0m\u001b[34m => => naming to docker.io/library/moe_expert                              0.0s\n",
      "\u001b[0m\u001b[?25h"
     ]
    }
   ],
   "source": [
    "! docker build -t moe_expert ~/vllm_test_field/vllm/flask_docker_app/."
   ]
  },
  {
   "cell_type": "markdown",
   "id": "cedd8e8f",
   "metadata": {},
   "source": [
    "## Initialize rank weight in the original track"
   ]
  },
  {
   "cell_type": "code",
   "execution_count": 5,
   "id": "3771a6f5",
   "metadata": {},
   "outputs": [
    {
     "name": "stdout",
     "output_type": "stream",
     "text": [
      "torch.Size([15, 2816, 2048])\n",
      "torch.Size([15, 2048, 1408])\n",
      "torch.Size([15, 2816, 2048])\n",
      "torch.Size([15, 2048, 1408])\n",
      "torch.Size([15, 2816, 2048])\n",
      "torch.Size([15, 2048, 1408])\n",
      "torch.Size([15, 2816, 2048])\n",
      "torch.Size([15, 2048, 1408])\n",
      "801053b8af746b2fc27637a6e1d53f1e0cac49d42ce71eb56e18516d39939972\n",
      "fused_moe_layer_23_exp_0_14\n",
      "容器启动成功！\n",
      "9c0ed00934f75401a5f7f7c171098f11a8d85a876bb77e29243b238933d78614\n",
      "fused_moe_layer_23_exp_15_29\n",
      "容器启动成功！\n",
      "87a5a175be4a5a201bd240de5c680acde7e6e005549d83791111222584c73590\n",
      "fused_moe_layer_23_exp_30_44\n",
      "容器启动成功！\n",
      "3d6b886794f3fc344a525e8e6c089bed0121bc05aa4e754537d0a55186d5da2f\n",
      "fused_moe_layer_23_exp_45_59\n",
      "容器启动成功！\n",
      "Containers launched in: 1927.85 ms\n",
      "Average containers launching time : 481.96 ms\n"
     ]
    }
   ],
   "source": [
    "def init_rank_weight(world_size, config ):\n",
    "    expert_num = config.num_experts\n",
    "    avg_expert = expert_num // world_size\n",
    "    w13_weight = torch.nn.Parameter(torch.randn(\n",
    "            avg_expert,\n",
    "            2 * config.moe_intermediate_size,\n",
    "        config.hidden_size,\n",
    "        dtype=torch.bfloat16), requires_grad=False).to(\"cuda\")\n",
    "    print(w13_weight.shape)\n",
    "    w2_weight =torch.nn.Parameter(torch.randn(\n",
    "        avg_expert,\n",
    "        config.hidden_size,\n",
    "        config.moe_intermediate_size ,\n",
    "        dtype=torch.bfloat16),\n",
    "        requires_grad=False).to(\"cuda\")\n",
    "    print(w2_weight.shape) \n",
    "    return w13_weight, w2_weight\n",
    "\n",
    "for worker in workers:\n",
    "    worker[\"w1\"] , worker[\"w2\"] = init_rank_weight(WORLD_SIZE, config)\n",
    "# ----------------------------------------original code above--------------------------------------\n",
    "\n",
    "import subprocess\n",
    "import time\n",
    "import torch\n",
    "# configs\n",
    "torch.cuda.empty_cache()\n",
    "torch.cuda.synchronize()\n",
    "NUM_CONTAINERS = WORLD_SIZE\n",
    "IMAGE_NAME = \"moe_expert\"\n",
    "layer = 23\n",
    "experts_count_per_container = 60//NUM_CONTAINERS\n",
    "\n",
    "start_time = time.time() \n",
    "\n",
    "for i in range(NUM_CONTAINERS):\n",
    "    cmd = [\n",
    "    \"docker\", \"run\", \"-d\",\n",
    "    \"--name\", f\"fused_moe_layer_{layer}_exp_{i*experts_count_per_container}_{(i+1)*experts_count_per_container-1}\",\n",
    "    \"--gpus\", \"all\",\n",
    "    \"--rm\",\n",
    "    \"-p\", f\"{5000+i}:5000\",\n",
    "    \"-v\", \"/home/ubuntu/vllm_test_field/vllm/ipc_handler_demo/weights:/app/weights\",\n",
    "    \"-e\", f\"RANK={i}\",\n",
    "    \"-e\", f\"NUM_EXPERTS={experts_count_per_container}\",\n",
    "    \"-e\", f\"GPU_IDX={0}\",\n",
    "    \"-e\", f\"WEIGHT_PATH=/app/weights\",\n",
    "    \"-e\", f\"LAYER={layer}\",\n",
    "    \n",
    "    IMAGE_NAME\n",
    "    ]\n",
    "    try:\n",
    "        subprocess.run(cmd, check=True)\n",
    "        print(f\"fused_moe_layer_{layer}_exp_{i*experts_count_per_container}_{(i+1)*experts_count_per_container-1}\\n容器启动成功！\")\n",
    "    except subprocess.CalledProcessError as e:\n",
    "        print(f\"启动失败: {e}\")\n",
    "        \n",
    "\n",
    "end_time = time.time()  # 记录结束时间\n",
    "elapsed_time = end_time - start_time  # 计算用时\n",
    "print(f\"Containers launched in: {elapsed_time*1000:.2f} ms\")\n",
    "print(f\"Average containers launching time : {elapsed_time*1000/WORLD_SIZE:.2f} ms\")"
   ]
  },
  {
   "cell_type": "markdown",
   "id": "d8c7bc2b",
   "metadata": {},
   "source": [
    "## Prepare input for normal vllm track and expert-duplication containers"
   ]
  },
  {
   "cell_type": "code",
   "execution_count": 6,
   "id": "1b4a106b",
   "metadata": {},
   "outputs": [
    {
     "name": "stdout",
     "output_type": "stream",
     "text": [
      "topk_ids.shape torch.Size([1000, 4]) torch.int32\n",
      "topk_weights.shape torch.Size([1000, 4]) torch.float32\n",
      "hidden_states.shape torch.Size([1000, 2048]) torch.bfloat16\n",
      "topk_ids.shape torch.Size([1000, 4]) torch.int32\n",
      "topk_weights.shape torch.Size([1000, 4]) torch.float32\n",
      "hidden_states.shape torch.Size([1000, 2048]) torch.bfloat16\n"
     ]
    }
   ],
   "source": [
    "\n",
    "\n",
    "def create_input(token_num, config):\n",
    "    topk_ids = torch.randint(0, config.num_experts, (token_num, config.num_experts_per_tok), dtype=torch.int32).to(\"cuda\")\n",
    "    topk_weights = torch.randn(token_num, config.num_experts_per_tok, dtype=torch.float32).to(\"cuda\")\n",
    "    hidden_states = torch.randn( token_num, config.hidden_size, dtype=torch.bfloat16).to(\"cuda\") # \n",
    "    print(\"topk_ids.shape\", topk_ids.shape, topk_ids.dtype)\n",
    "    print(\"topk_weights.shape\", topk_weights.shape, topk_weights.dtype)\n",
    "    print(\"hidden_states.shape\", hidden_states.shape, hidden_states.dtype)\n",
    "    return {\"topk_ids\":topk_ids,\"topk_weights\":topk_weights, \"hidden_states\":hidden_states }\n",
    "\n",
    "inputs = create_input( TOKEN_NUM, config)\n",
    "\n",
    "\n",
    "# ----------------------------------------original code above--------------------------------------\n",
    "\n",
    "def create_input_container(token_num, config):\n",
    "    topk_ids = inputs[\"topk_ids\"].clone().cpu()\n",
    "    topk_weights = inputs[\"topk_weights\"].clone().cpu()\n",
    "    hidden_states = inputs[\"hidden_states\"].clone().cpu() # \n",
    "    print(\"topk_ids.shape\", topk_ids.shape, topk_ids.dtype)\n",
    "    print(\"topk_weights.shape\", topk_weights.shape, topk_weights.dtype)\n",
    "    print(\"hidden_states.shape\", hidden_states.shape, hidden_states.dtype)\n",
    "    return {\"topk_ids\":topk_ids.tolist(),\"topk_weights\":topk_weights.tolist(), \"hidden_states\":hidden_states.tolist() }\n",
    "\n",
    "inputs_container = create_input_container( TOKEN_NUM, config)"
   ]
  },
  {
   "cell_type": "markdown",
   "id": "887f8afe",
   "metadata": {},
   "source": [
    "## Initialize expert map for boths path"
   ]
  },
  {
   "cell_type": "code",
   "execution_count": 7,
   "id": "ac8f5c55",
   "metadata": {},
   "outputs": [
    {
     "name": "stdout",
     "output_type": "stream",
     "text": [
      "tensor([ 0,  1,  2,  3,  4,  5,  6,  7,  8,  9, 10, 11, 12, 13, 14, -1, -1, -1,\n",
      "        -1, -1, -1, -1, -1, -1, -1, -1, -1, -1, -1, -1, -1, -1, -1, -1, -1, -1,\n",
      "        -1, -1, -1, -1, -1, -1, -1, -1, -1, -1, -1, -1, -1, -1, -1, -1, -1, -1,\n",
      "        -1, -1, -1, -1, -1, -1], device='cuda:0', dtype=torch.int32) torch.Size([60])\n",
      "tensor([-1, -1, -1, -1, -1, -1, -1, -1, -1, -1, -1, -1, -1, -1, -1,  0,  1,  2,\n",
      "         3,  4,  5,  6,  7,  8,  9, 10, 11, 12, 13, 14, -1, -1, -1, -1, -1, -1,\n",
      "        -1, -1, -1, -1, -1, -1, -1, -1, -1, -1, -1, -1, -1, -1, -1, -1, -1, -1,\n",
      "        -1, -1, -1, -1, -1, -1], device='cuda:0', dtype=torch.int32) torch.Size([60])\n",
      "tensor([-1, -1, -1, -1, -1, -1, -1, -1, -1, -1, -1, -1, -1, -1, -1, -1, -1, -1,\n",
      "        -1, -1, -1, -1, -1, -1, -1, -1, -1, -1, -1, -1,  0,  1,  2,  3,  4,  5,\n",
      "         6,  7,  8,  9, 10, 11, 12, 13, 14, -1, -1, -1, -1, -1, -1, -1, -1, -1,\n",
      "        -1, -1, -1, -1, -1, -1], device='cuda:0', dtype=torch.int32) torch.Size([60])\n",
      "tensor([-1, -1, -1, -1, -1, -1, -1, -1, -1, -1, -1, -1, -1, -1, -1, -1, -1, -1,\n",
      "        -1, -1, -1, -1, -1, -1, -1, -1, -1, -1, -1, -1, -1, -1, -1, -1, -1, -1,\n",
      "        -1, -1, -1, -1, -1, -1, -1, -1, -1,  0,  1,  2,  3,  4,  5,  6,  7,  8,\n",
      "         9, 10, 11, 12, 13, 14], device='cuda:0', dtype=torch.int32) torch.Size([60])\n",
      "tensor([ 0,  1,  2,  3,  4,  5,  6,  7,  8,  9, 10, 11, 12, 13, 14, -1, -1, -1,\n",
      "        -1, -1, -1, -1, -1, -1, -1, -1, -1, -1, -1, -1, -1, -1, -1, -1, -1, -1,\n",
      "        -1, -1, -1, -1, -1, -1, -1, -1, -1, -1, -1, -1, -1, -1, -1, -1, -1, -1,\n",
      "        -1, -1, -1, -1, -1, -1, -1, -1, -1, -1, -1, -1, -1, -1, -1, -1, -1, -1,\n",
      "        -1, -1, -1, -1, -1, -1, -1, -1, -1, -1, -1, -1, -1, -1, -1, -1, -1, -1,\n",
      "        -1, -1, -1, -1, -1, -1, -1, -1, -1, -1, -1, -1, -1, -1, -1, -1, -1, -1,\n",
      "        -1, -1, -1, -1, -1, -1, -1, -1, -1, -1, -1, -1], device='cuda:0') torch.Size([120])\n",
      "tensor([-1, -1, -1, -1, -1, -1, -1, -1, -1, -1, -1, -1, -1, -1, -1,  0,  1,  2,\n",
      "         3,  4,  5,  6,  7,  8,  9, 10, 11, 12, 13, 14, -1, -1, -1, -1, -1, -1,\n",
      "        -1, -1, -1, -1, -1, -1, -1, -1, -1, -1, -1, -1, -1, -1, -1, -1, -1, -1,\n",
      "        -1, -1, -1, -1, -1, -1, -1, -1, -1, -1, -1, -1, -1, -1, -1, -1, -1, -1,\n",
      "        -1, -1, -1, -1, -1, -1, -1, -1, -1, -1, -1, -1, -1, -1, -1, -1, -1, -1,\n",
      "        -1, -1, -1, -1, -1, -1, -1, -1, -1, -1, -1, -1, -1, -1, -1, -1, -1, -1,\n",
      "        -1, -1, -1, -1, -1, -1, -1, -1, -1, -1, -1, -1], device='cuda:0') torch.Size([120])\n",
      "tensor([-1, -1, -1, -1, -1, -1, -1, -1, -1, -1, -1, -1, -1, -1, -1, -1, -1, -1,\n",
      "        -1, -1, -1, -1, -1, -1, -1, -1, -1, -1, -1, -1,  0,  1,  2,  3,  4,  5,\n",
      "         6,  7,  8,  9, 10, 11, 12, 13, 14, -1, -1, -1, -1, -1, -1, -1, -1, -1,\n",
      "        -1, -1, -1, -1, -1, -1, -1, -1, -1, -1, -1, -1, -1, -1, -1, -1, -1, -1,\n",
      "        -1, -1, -1, -1, -1, -1, -1, -1, -1, -1, -1, -1, -1, -1, -1, -1, -1, -1,\n",
      "        -1, -1, -1, -1, -1, -1, -1, -1, -1, -1, -1, -1, -1, -1, -1, -1, -1, -1,\n",
      "        -1, -1, -1, -1, -1, -1, -1, -1, -1, -1, -1, -1], device='cuda:0') torch.Size([120])\n",
      "tensor([-1, -1, -1, -1, -1, -1, -1, -1, -1, -1, -1, -1, -1, -1, -1, -1, -1, -1,\n",
      "        -1, -1, -1, -1, -1, -1, -1, -1, -1, -1, -1, -1, -1, -1, -1, -1, -1, -1,\n",
      "        -1, -1, -1, -1, -1, -1, -1, -1, -1,  0,  1,  2,  3,  4,  5,  6,  7,  8,\n",
      "         9, 10, 11, 12, 13, 14, -1, -1, -1, -1, -1, -1, -1, -1, -1, -1, -1, -1,\n",
      "        -1, -1, -1, -1, -1, -1, -1, -1, -1, -1, -1, -1, -1, -1, -1, -1, -1, -1,\n",
      "        -1, -1, -1, -1, -1, -1, -1, -1, -1, -1, -1, -1, -1, -1, -1, -1, -1, -1,\n",
      "        -1, -1, -1, -1, -1, -1, -1, -1, -1, -1, -1, -1], device='cuda:0') torch.Size([120])\n",
      "\n",
      "container expert maps\n",
      "\n",
      "\n",
      "tensor([-1, -1, -1, -1, -1, -1, -1, -1, -1, -1, -1, -1, -1, -1, -1, -1, -1, -1,\n",
      "        -1, -1, -1, -1, -1, -1, -1, -1, -1, -1, -1, -1, -1, -1, -1, -1, -1, -1,\n",
      "        -1, -1, -1, -1, -1, -1, -1, -1, -1, -1, -1, -1, -1, -1, -1, -1, -1, -1,\n",
      "        -1, -1, -1, -1, -1, -1,  0,  1,  2,  3,  4,  5,  6,  7,  8,  9, 10, 11,\n",
      "        12, 13, 14, -1, -1, -1, -1, -1, -1, -1, -1, -1, -1, -1, -1, -1, -1, -1,\n",
      "        -1, -1, -1, -1, -1, -1, -1, -1, -1, -1, -1, -1, -1, -1, -1, -1, -1, -1,\n",
      "        -1, -1, -1, -1, -1, -1, -1, -1, -1, -1, -1, -1], device='cuda:0') torch.Size([120])\n",
      "tensor([-1, -1, -1, -1, -1, -1, -1, -1, -1, -1, -1, -1, -1, -1, -1, -1, -1, -1,\n",
      "        -1, -1, -1, -1, -1, -1, -1, -1, -1, -1, -1, -1, -1, -1, -1, -1, -1, -1,\n",
      "        -1, -1, -1, -1, -1, -1, -1, -1, -1, -1, -1, -1, -1, -1, -1, -1, -1, -1,\n",
      "        -1, -1, -1, -1, -1, -1, -1, -1, -1, -1, -1, -1, -1, -1, -1, -1, -1, -1,\n",
      "        -1, -1, -1,  0,  1,  2,  3,  4,  5,  6,  7,  8,  9, 10, 11, 12, 13, 14,\n",
      "        -1, -1, -1, -1, -1, -1, -1, -1, -1, -1, -1, -1, -1, -1, -1, -1, -1, -1,\n",
      "        -1, -1, -1, -1, -1, -1, -1, -1, -1, -1, -1, -1], device='cuda:0') torch.Size([120])\n",
      "tensor([-1, -1, -1, -1, -1, -1, -1, -1, -1, -1, -1, -1, -1, -1, -1, -1, -1, -1,\n",
      "        -1, -1, -1, -1, -1, -1, -1, -1, -1, -1, -1, -1, -1, -1, -1, -1, -1, -1,\n",
      "        -1, -1, -1, -1, -1, -1, -1, -1, -1, -1, -1, -1, -1, -1, -1, -1, -1, -1,\n",
      "        -1, -1, -1, -1, -1, -1, -1, -1, -1, -1, -1, -1, -1, -1, -1, -1, -1, -1,\n",
      "        -1, -1, -1, -1, -1, -1, -1, -1, -1, -1, -1, -1, -1, -1, -1, -1, -1, -1,\n",
      "         0,  1,  2,  3,  4,  5,  6,  7,  8,  9, 10, 11, 12, 13, 14, -1, -1, -1,\n",
      "        -1, -1, -1, -1, -1, -1, -1, -1, -1, -1, -1, -1], device='cuda:0') torch.Size([120])\n",
      "tensor([-1, -1, -1, -1, -1, -1, -1, -1, -1, -1, -1, -1, -1, -1, -1, -1, -1, -1,\n",
      "        -1, -1, -1, -1, -1, -1, -1, -1, -1, -1, -1, -1, -1, -1, -1, -1, -1, -1,\n",
      "        -1, -1, -1, -1, -1, -1, -1, -1, -1, -1, -1, -1, -1, -1, -1, -1, -1, -1,\n",
      "        -1, -1, -1, -1, -1, -1, -1, -1, -1, -1, -1, -1, -1, -1, -1, -1, -1, -1,\n",
      "        -1, -1, -1, -1, -1, -1, -1, -1, -1, -1, -1, -1, -1, -1, -1, -1, -1, -1,\n",
      "        -1, -1, -1, -1, -1, -1, -1, -1, -1, -1, -1, -1, -1, -1, -1,  0,  1,  2,\n",
      "         3,  4,  5,  6,  7,  8,  9, 10, 11, 12, 13, 14], device='cuda:0') torch.Size([120])\n"
     ]
    }
   ],
   "source": [
    "def init_expert_map(rank, world_size, total_expert_num):\n",
    "    avg_expert_num = total_expert_num // world_size\n",
    "    real_local_expert_ids = list(range(rank * avg_expert_num, (rank + 1) * avg_expert_num))\n",
    "    expert_map = [-1] * total_expert_num\n",
    "    for local_id, global_id in enumerate(real_local_expert_ids):\n",
    "        expert_map[global_id] = local_id\n",
    "    return torch.tensor(expert_map, device=\"cuda\", dtype=torch.int32)\n",
    "\n",
    "for worker in workers:\n",
    "    worker[\"expert_map\"]  = init_expert_map( worker[\"rank\"],WORLD_SIZE,  config.num_experts)\n",
    "    print(worker[\"expert_map\"], worker[\"expert_map\"].shape)\n",
    "    \n",
    " \n",
    " # ----------------------------------------original code above--------------------------------------   \n",
    "\n",
    "for worker in workers:\n",
    "    worker[\"expert_map\"]  = init_expert_map( worker[\"rank\"],WORLD_SIZE,  config.num_experts)\n",
    "    # 创建包含60个-1的Tensor\n",
    "    minus_ones = torch.full((60,), -1).cuda()\n",
    "    worker[\"expert_map\"]  = torch.cat((worker[\"expert_map\"] ,minus_ones))\n",
    "    print(worker[\"expert_map\"], worker[\"expert_map\"].shape)\n",
    "\n",
    "\n",
    "print(\"\\ncontainer expert maps\\n\\n\")\n",
    "container_expert_maps=[]\n",
    "for worker in workers:\n",
    "    em  = init_expert_map( worker[\"rank\"],WORLD_SIZE,  config.num_experts)\n",
    "    # 创建包含60个-1的Tensor\n",
    "    minus_ones = torch.full((60,), -1).cuda()\n",
    "    em  = torch.cat((minus_ones,em))\n",
    "    print(em, em.shape)\n",
    "    container_expert_maps.append(em.cpu().tolist())\n",
    "\n"
   ]
  },
  {
   "cell_type": "markdown",
   "id": "1e037fd3",
   "metadata": {},
   "source": [
    "## Warm up"
   ]
  },
  {
   "cell_type": "code",
   "execution_count": 8,
   "id": "7b25ad66",
   "metadata": {},
   "outputs": [
    {
     "name": "stdout",
     "output_type": "stream",
     "text": [
      "WARNING 05-11 03:39:35 [fused_moe.py:954] Using default MoE config. Performance might be sub-optimal! Config file not found at /home/ubuntu/vllm_test_field/vllm/vllm/model_executor/layers/fused_moe/configs/E=15,N=1408,device_name=NVIDIA_A10G.json\n",
      "INFO 05-11 03:39:35 [fused_moe.py:1658] expert_ids.shape: torch.Size([181])\n"
     ]
    },
    {
     "name": "stdout",
     "output_type": "stream",
     "text": [
      "INFO 05-11 03:39:35 [fused_moe.py:1658] expert_ids.shape: torch.Size([181])\n",
      "INFO 05-11 03:39:35 [fused_moe.py:1658] expert_ids.shape: torch.Size([181])\n",
      "INFO 05-11 03:39:35 [fused_moe.py:1658] expert_ids.shape: torch.Size([181])\n"
     ]
    }
   ],
   "source": [
    "def moe_forward(worker, inputs ):\n",
    "    start_event = torch.cuda.Event(enable_timing=True)\n",
    "    end_event = torch.cuda.Event(enable_timing=True)\n",
    "    start_event.record()\n",
    "    output = fused_experts_impl(\n",
    "        hidden_states = inputs[\"hidden_states\"],\n",
    "        w1 = worker[\"w1\"],\n",
    "        w2 = worker[\"w2\"],\n",
    "        topk_weights = inputs[\"topk_weights\"],\n",
    "        topk_ids = inputs[\"topk_ids\"],\n",
    "        inplace = True,\n",
    "        activation = \"silu\",\n",
    "        expert_map = worker[\"expert_map\"],\n",
    "        global_num_experts =worker[\"expert_map\"].shape[0]\n",
    "    )\n",
    "    end_event.record()\n",
    "    torch.cuda.synchronize()\n",
    "    latency_ms = start_event.elapsed_time(end_event)\n",
    "    return output,latency_ms\n",
    "\n",
    "make_inputs={\"topk_ids\": torch.randint(low=0, high=60, size=inputs[\"topk_ids\"].shape, dtype=inputs[\"topk_ids\"].dtype,device=inputs[\"topk_ids\"].device),\n",
    "             \"topk_weights\": torch.rand_like(inputs[\"topk_weights\"], dtype=inputs[\"topk_weights\"].dtype,device=inputs[\"topk_weights\"].device),\n",
    "             \"hidden_states\": torch.rand_like(inputs[\"hidden_states\"], dtype=inputs[\"hidden_states\"].dtype,device=inputs[\"hidden_states\"].device)}\n",
    "\n",
    "for worker in workers:\n",
    "    moe_forward (worker, make_inputs)"
   ]
  },
  {
   "cell_type": "markdown",
   "id": "04380800",
   "metadata": {},
   "source": [
    "## without expert duplication"
   ]
  },
  {
   "cell_type": "code",
   "execution_count": 9,
   "id": "6e71893c",
   "metadata": {},
   "outputs": [
    {
     "data": {
      "text/plain": [
       "torch.Size([1000, 2048])"
      ]
     },
     "execution_count": 9,
     "metadata": {},
     "output_type": "execute_result"
    }
   ],
   "source": [
    "inputs[\"hidden_states\"].shape"
   ]
  },
  {
   "cell_type": "code",
   "execution_count": 10,
   "id": "f1984d26",
   "metadata": {},
   "outputs": [
    {
     "name": "stdout",
     "output_type": "stream",
     "text": [
      "INFO 05-11 03:39:36 [fused_moe.py:1658] expert_ids.shape: torch.Size([181])\n",
      "torch.Size([1000, 2048])\n",
      "INFO 05-11 03:39:36 [fused_moe.py:1658] expert_ids.shape: torch.Size([181])\n",
      "torch.Size([1000, 2048])\n",
      "INFO 05-11 03:39:36 [fused_moe.py:1658] expert_ids.shape: torch.Size([181])\n",
      "torch.Size([1000, 2048])\n",
      "INFO 05-11 03:39:36 [fused_moe.py:1658] expert_ids.shape: torch.Size([181])\n",
      "torch.Size([1000, 2048])\n",
      "Rank 0 latency: 3.1498239040374756 ms\n",
      "Rank 1 latency: 2.213887929916382 ms\n",
      "Rank 2 latency: 3.4856960773468018 ms\n",
      "Rank 3 latency: 5.307392120361328 ms\n"
     ]
    }
   ],
   "source": [
    "\n",
    "\n",
    "\n",
    "\n",
    "without_expert_duplication_time_cost=[]\n",
    "for worker in workers:\n",
    "    worker[\"output\"],latency_ms = moe_forward (worker, inputs)\n",
    "    without_expert_duplication_time_cost.append(latency_ms)\n",
    "    print(worker[\"output\"].shape)\n",
    "\n",
    "for i in range(len(without_expert_duplication_time_cost)):\n",
    "    print(f\"Rank {i} latency: {without_expert_duplication_time_cost[i]} ms\")\n",
    "\n"
   ]
  },
  {
   "cell_type": "markdown",
   "id": "06d76294",
   "metadata": {},
   "source": [
    "## Wait for containers to be fully initialized"
   ]
  },
  {
   "cell_type": "code",
   "execution_count": 11,
   "id": "f7eb5c51",
   "metadata": {},
   "outputs": [],
   "source": [
    "time.sleep(10)"
   ]
  },
  {
   "cell_type": "markdown",
   "id": "191640ca",
   "metadata": {},
   "source": [
    "## Pure using container"
   ]
  },
  {
   "cell_type": "code",
   "execution_count": 12,
   "id": "904d66c2",
   "metadata": {},
   "outputs": [],
   "source": [
    "# container warmup\n",
    "import requests\n",
    "token_num=1000\n",
    "make_inputs_container={\"topk_ids\": torch.randint(0, config.num_experts, (token_num, config.num_experts_per_tok), dtype=torch.int32).cpu().tolist(),\n",
    "             \"topk_weights\": torch.randn(token_num, config.num_experts_per_tok, dtype=torch.float32).cpu().tolist(),\n",
    "             \"hidden_states\": torch.randn( token_num, config.hidden_size, dtype=torch.bfloat16).cpu().tolist()}\n",
    "\n",
    "for i in range(WORLD_SIZE):\n",
    "    url = f\"http://localhost:500{i}/forward\"\n",
    "    response = requests.post(url, json=make_inputs_container)\n",
    "    output = torch.tensor(response.json()[\"hidden_output\"],dtype=torch.bfloat16,device=\"cuda:0\")\n"
   ]
  },
  {
   "cell_type": "code",
   "execution_count": 13,
   "id": "58dca4dd",
   "metadata": {},
   "outputs": [
    {
     "name": "stdout",
     "output_type": "stream",
     "text": [
      "Container 0 latency: 1.3482880592346191 ms\n",
      "output.shape torch.Size([1000, 2048])\n",
      "Container 1 latency: 1.2819520235061646 ms\n",
      "output.shape torch.Size([1000, 2048])\n",
      "Container 2 latency: 1.2655999660491943 ms\n",
      "output.shape torch.Size([1000, 2048])\n",
      "Container 3 latency: 1.3551360368728638 ms\n",
      "output.shape torch.Size([1000, 2048])\n"
     ]
    }
   ],
   "source": [
    "out_hidden_states = []\n",
    "for i in range(WORLD_SIZE):\n",
    "    url = f\"http://localhost:500{i}/forward\"\n",
    "    response = requests.post(url, json=inputs_container)\n",
    "\n",
    "    output = torch.tensor(response.json()[\"hidden_output\"],dtype=torch.bfloat16,device=\"cuda:0\")\n",
    "    latency_ms = response.json()[\"latency_ms\"]\n",
    "    print(f\"Container {i} latency: {latency_ms} ms\")\n",
    "    print(\"output.shape\", output.shape)\n",
    "    out_hidden_states.append(output)"
   ]
  },
  {
   "cell_type": "markdown",
   "id": "6b809b01",
   "metadata": {},
   "source": [
    "## Plot expert load"
   ]
  },
  {
   "cell_type": "code",
   "execution_count": 14,
   "id": "4c2a963d",
   "metadata": {},
   "outputs": [
    {
     "name": "stderr",
     "output_type": "stream",
     "text": [
      "/tmp/ipykernel_8639/378252664.py:1: UserWarning: To copy construct from a tensor, it is recommended to use sourceTensor.clone().detach() or sourceTensor.clone().detach().requires_grad_(True), rather than torch.tensor(sourceTensor).\n",
      "  my_plot(torch.tensor(inputs[\"topk_ids\"]))\n"
     ]
    },
    {
     "data": {
      "image/png": "[encoded data removed]",
      "text/plain": [
       "<Figure size 800x500 with 1 Axes>"
      ]
     },
     "metadata": {},
     "output_type": "display_data"
    }
   ],
   "source": [
    "my_plot(torch.tensor(inputs[\"topk_ids\"]))"
   ]
  },
  {
   "cell_type": "markdown",
   "id": "5559cf2d",
   "metadata": {},
   "source": [
    "## Load balance"
   ]
  },
  {
   "cell_type": "code",
   "execution_count": 15,
   "id": "da9b7ebb",
   "metadata": {},
   "outputs": [
    {
     "name": "stdout",
     "output_type": "stream",
     "text": [
      "The average experts load is: 66\n",
      "exceeded_expert_load:  [(0, 0), (1, 0), (2, 10), (3, 0), (4, 24), (5, 0), (6, 11), (7, 14), (8, 4), (9, 0), (10, 0), (11, 0), (12, 2), (13, 2), (14, 0), (15, 2), (16, 1), (17, 0), (18, 0), (19, 9), (20, 0), (21, 10), (22, 0), (23, 8), (24, 0), (25, 0), (26, 0), (27, 0), (28, 10), (29, 4), (30, 6), (31, 1), (32, 0), (33, 13), (34, 10), (35, 13), (36, 0), (37, 1), (38, 3), (39, 0), (40, 5), (41, 0), (42, 0), (43, 10), (44, 0), (45, 0), (46, 0), (47, 11), (48, 0), (49, 0), (50, 4), (51, 0), (52, 0), (53, 6), (54, 3), (55, 0), (56, 0), (57, 0), (58, 0), (59, 0)]\n",
      "total exceeded_expert_load:  197\n",
      "max load in exceeded_expert_load:  24\n"
     ]
    },
    {
     "name": "stderr",
     "output_type": "stream",
     "text": [
      "/tmp/ipykernel_8639/2741822451.py:21: UserWarning: To copy construct from a tensor, it is recommended to use sourceTensor.clone().detach() or sourceTensor.clone().detach().requires_grad_(True), rather than torch.tensor(sourceTensor).\n",
      "  exceeded_expert_load,average_load = select_expert(torch.tensor(inputs[\"topk_ids\"]).cpu())\n"
     ]
    }
   ],
   "source": [
    "\n",
    "\n",
    "# def select_expert(topk_ids):\n",
    "#     # return expert_id, max_token_num\n",
    "#     count = Counter(topk_ids.flatten().tolist())\n",
    "#     sorted_counts_cnt = sorted(count.items(), key=lambda x: x[1],reverse=True)\n",
    "#     print(f\"selected_id {sorted_counts_cnt[0][0]}, max_token_num { sorted_counts_cnt[0][1]}\"  )\n",
    "#     return sorted_counts_cnt[0][0], sorted_counts_cnt[0][1]\n",
    "# selected_id, max_token_num = select_expert(inputs[\"topk_ids\"])\n",
    "\n",
    "# ----------------------------------------original code above--------------------------------------\n",
    "def select_expert(topk_ids):\n",
    "    # return expert_id, max_token_num\n",
    "    counts = Counter(topk_ids.flatten().tolist())\n",
    "    sorted_counts_cnt = sorted(counts.items(), key=lambda x: x[1],reverse=True)\n",
    "    average =( sum(counts.values())+1) // len(counts.values())\n",
    "    \n",
    "    print(f\"The average experts load is: {average}\")\n",
    "\n",
    "    exceeded_loads = {k: (v - average if v > average else 0) for k, v in sorted_counts_cnt}\n",
    "    return exceeded_loads,average\n",
    "\n",
    "exceeded_expert_load,average_load = select_expert(torch.tensor(inputs[\"topk_ids\"]).cpu())\n",
    "print(\"exceeded_expert_load: \", sorted(exceeded_expert_load.items(), key=lambda x: x[0],reverse=False))\n",
    "print(\"total exceeded_expert_load: \", sum(exceeded_expert_load.values()))\n",
    "print(\"max load in exceeded_expert_load: \", max(exceeded_expert_load.values()))\n"
   ]
  },
  {
   "cell_type": "code",
   "execution_count": 16,
   "id": "371dd35e",
   "metadata": {},
   "outputs": [],
   "source": [
    "# def get_new_map(rank, world_size, total_expert_num, selected_id):\n",
    "#     avg_expert_num = total_expert_num // world_size\n",
    "#     real_local_expert_ids = list(range(rank * avg_expert_num, (rank + 1) * avg_expert_num))\n",
    "#     expert_map = [-1] * (total_expert_num+1)\n",
    "#     for local_id, global_id in enumerate(real_local_expert_ids):\n",
    "#         expert_map[global_id] = local_id\n",
    "#     if selected_id in real_local_expert_ids:\n",
    "#         expert_map[-1] =  len(real_local_expert_ids)\n",
    "#     return torch.tensor(expert_map, device=\"cuda\", dtype=torch.int32)\n",
    "\n",
    "# for i in range(0,WORLD_SIZE):\n",
    "#     new_expert_map  = get_new_map(\n",
    "#         i,WORLD_SIZE,config.num_experts, selected_id\n",
    "#     )\n",
    "#     workers[i][\"new_expert_map\"] = new_expert_map\n",
    "#     print(new_expert_map, new_expert_map.shape)\n",
    "\n",
    "\n"
   ]
  },
  {
   "cell_type": "markdown",
   "id": "40e0a50d",
   "metadata": {},
   "source": [
    "## modify weight in the original track(not needed)"
   ]
  },
  {
   "cell_type": "code",
   "execution_count": 17,
   "id": "273de23b",
   "metadata": {},
   "outputs": [],
   "source": [
    "# def get_new_weight( w1,w2, rank,  selected_id, expert_map ):\n",
    "#     local_idx = expert_map [selected_id]\n",
    "#     if local_idx == -1:\n",
    "#         print(f\"[Rank {rank}]: Selected expert {selected_id} not in local expert_map. Skip.\")\n",
    "#         return w1, w2\n",
    "#     else:\n",
    "#         # replicate expert\n",
    "#         print(f\"[Rank {rank}]: Replicating expert {selected_id}, local_idx: {local_idx}\")\n",
    "#         # extract and append the expert weights\n",
    "#         new_expert_w1 = w1[local_idx].unsqueeze(0)  \n",
    "#         new_expert_w2 = w2[local_idx].unsqueeze(0)\n",
    "#         # concat new expert w1 to w1\n",
    "#         new_w1 = torch.cat((w1, new_expert_w1.to(w1.device)), dim=0)\n",
    "#         new_w2 = torch.cat((w2, new_expert_w2.to(w2.device)), dim=0)\n",
    "#         print(f\"[Rank {rank}]: New w1 shape: {new_w1.shape}\")\n",
    "#         print(f\"[Rank {rank}]: New w2 shape: {new_w2.shape}\")\n",
    "#         return new_w1, new_w2\n",
    "# for i in range(0,WORLD_SIZE):\n",
    "#     new_w1, new_w2 = get_new_weight(\n",
    "#         workers[i][\"w1\"],\n",
    "#         workers[i][\"w2\"],\n",
    "#         i,\n",
    "#         selected_id,\n",
    "#         workers[i][\"new_expert_map\"]\n",
    "#     )\n",
    "#     workers[i][\"new_w1\"] = new_w1\n",
    "#     workers[i][\"new_w2\"] = new_w2"
   ]
  },
  {
   "cell_type": "markdown",
   "id": "bfc78d5d",
   "metadata": {},
   "source": [
    "## modify topk ids with both local and containers"
   ]
  },
  {
   "cell_type": "code",
   "execution_count": 18,
   "id": "761d8ea2",
   "metadata": {},
   "outputs": [
    {
     "data": {
      "text/plain": [
       "tensor([[50, 19,  5, 12],\n",
       "        [ 7, 23, 39, 38],\n",
       "        [ 2, 28, 40, 12],\n",
       "        ...,\n",
       "        [ 6, 45, 55, 48],\n",
       "        [28, 12, 16, 49],\n",
       "        [ 6, 30,  5, 47]], device='cuda:0', dtype=torch.int32)"
      ]
     },
     "execution_count": 18,
     "metadata": {},
     "output_type": "execute_result"
    }
   ],
   "source": [
    "inputs[\"topk_ids\"]"
   ]
  },
  {
   "cell_type": "code",
   "execution_count": 19,
   "id": "c730af35",
   "metadata": {},
   "outputs": [
    {
     "name": "stdout",
     "output_type": "stream",
     "text": [
      "4 -> 64\n",
      "4 -> 64\n",
      "4 -> 64\n",
      "4 -> 64\n",
      "4 -> 64\n",
      "4 -> 64\n",
      "4 -> 64\n",
      "4 -> 64\n",
      "33 -> 93\n",
      "33 -> 93\n",
      "19 -> 79\n",
      "33 -> 93\n",
      "4 -> 64\n",
      "7 -> 67\n",
      "19 -> 79\n",
      "35 -> 95\n",
      "35 -> 95\n",
      "7 -> 67\n",
      "34 -> 94\n",
      "7 -> 67\n",
      "35 -> 95\n",
      "19 -> 79\n",
      "4 -> 64\n",
      "7 -> 67\n",
      "7 -> 67\n",
      "47 -> 107\n",
      "23 -> 83\n",
      "4 -> 64\n",
      "23 -> 83\n",
      "47 -> 107\n",
      "4 -> 64\n",
      "47 -> 107\n",
      "33 -> 93\n",
      "7 -> 67\n",
      "34 -> 94\n",
      "28 -> 88\n",
      "19 -> 79\n",
      "23 -> 83\n",
      "7 -> 67\n",
      "35 -> 95\n",
      "4 -> 64\n",
      "47 -> 107\n",
      "28 -> 88\n",
      "7 -> 67\n",
      "34 -> 94\n",
      "28 -> 88\n",
      "34 -> 94\n",
      "23 -> 83\n",
      "47 -> 107\n",
      "6 -> 66\n",
      "6 -> 66\n",
      "47 -> 107\n",
      "28 -> 88\n",
      "43 -> 103\n",
      "4 -> 64\n",
      "35 -> 95\n",
      "4 -> 64\n",
      "35 -> 95\n",
      "43 -> 103\n",
      "2 -> 62\n",
      "4 -> 64\n",
      "35 -> 95\n",
      "21 -> 81\n",
      "4 -> 64\n",
      "6 -> 66\n",
      "15 -> 75\n",
      "28 -> 88\n",
      "43 -> 103\n",
      "2 -> 62\n",
      "34 -> 94\n",
      "33 -> 93\n",
      "47 -> 107\n",
      "21 -> 81\n",
      "35 -> 95\n",
      "40 -> 100\n",
      "6 -> 66\n",
      "19 -> 79\n",
      "7 -> 67\n",
      "19 -> 79\n",
      "30 -> 90\n",
      "35 -> 95\n",
      "28 -> 88\n",
      "21 -> 81\n",
      "4 -> 64\n",
      "7 -> 67\n",
      "4 -> 64\n",
      "28 -> 88\n",
      "35 -> 95\n",
      "34 -> 94\n",
      "7 -> 67\n",
      "34 -> 94\n",
      "2 -> 62\n",
      "33 -> 93\n",
      "28 -> 88\n",
      "8 -> 68\n",
      "34 -> 94\n",
      "8 -> 68\n",
      "6 -> 66\n",
      "2 -> 62\n",
      "2 -> 62\n",
      "23 -> 83\n",
      "6 -> 66\n",
      "40 -> 100\n",
      "2 -> 62\n",
      "33 -> 93\n",
      "53 -> 113\n",
      "23 -> 83\n",
      "4 -> 64\n",
      "40 -> 100\n",
      "33 -> 93\n",
      "47 -> 107\n",
      "33 -> 93\n",
      "6 -> 66\n",
      "34 -> 94\n",
      "19 -> 79\n",
      "43 -> 103\n",
      "21 -> 81\n",
      "21 -> 81\n",
      "53 -> 113\n",
      "35 -> 95\n",
      "50 -> 110\n",
      "43 -> 103\n",
      "7 -> 67\n",
      "43 -> 103\n",
      "40 -> 100\n",
      "6 -> 66\n",
      "19 -> 79\n",
      "23 -> 83\n",
      "4 -> 64\n",
      "54 -> 114\n",
      "8 -> 68\n",
      "50 -> 110\n",
      "21 -> 81\n",
      "43 -> 103\n",
      "21 -> 81\n",
      "2 -> 62\n",
      "43 -> 103\n",
      "30 -> 90\n",
      "30 -> 90\n",
      "13 -> 73\n",
      "38 -> 98\n",
      "53 -> 113\n",
      "21 -> 81\n",
      "33 -> 93\n",
      "33 -> 93\n",
      "38 -> 98\n",
      "21 -> 81\n",
      "53 -> 113\n",
      "54 -> 114\n",
      "53 -> 113\n",
      "2 -> 62\n",
      "47 -> 107\n",
      "4 -> 64\n",
      "30 -> 90\n",
      "2 -> 62\n",
      "29 -> 89\n",
      "35 -> 95\n",
      "4 -> 64\n",
      "29 -> 89\n",
      "50 -> 110\n",
      "43 -> 103\n",
      "29 -> 89\n",
      "33 -> 93\n",
      "7 -> 67\n",
      "6 -> 66\n",
      "28 -> 88\n",
      "12 -> 72\n",
      "6 -> 66\n",
      "30 -> 90\n",
      "47 -> 107\n"
     ]
    }
   ],
   "source": [
    "from collections import defaultdict\n",
    "\n",
    "def modify_topk_ids_container(topk_ids, expert_num):\n",
    "\n",
    "    # 将一半 selected_id 的 workload 转移给新 expert\n",
    "    cnt = defaultdict(int)\n",
    "    \n",
    "    for i in range(len(topk_ids)):\n",
    "        for j in range(len(topk_ids[0])):\n",
    "            if cnt[topk_ids[i][j]] <= average_load:\n",
    "                cnt[topk_ids[i][j]] += 1\n",
    "            else:\n",
    "                print(f\"{int(topk_ids[i][j])} -> {int(topk_ids[i][j]+expert_num)}\")\n",
    "                topk_ids[i][j] = expert_num + topk_ids[i][j]\n",
    "                \n",
    "           \n",
    "\n",
    "    return topk_ids\n",
    "newly_generated_topk_ids = modify_topk_ids_container(inputs_container[\"topk_ids\"], 60)"
   ]
  },
  {
   "cell_type": "code",
   "execution_count": 20,
   "id": "e26a9724",
   "metadata": {},
   "outputs": [],
   "source": [
    "# def modify_topk_ids(topk_ids, selected_id, token_num, expert_num):\n",
    "#     topk_ids = topk_ids.clone()\n",
    "#     # 将一半 selected_id 的 workload 转移给新 expert\n",
    "#     cnt = 0\n",
    "#     new_expert_id = expert_num\n",
    "#     for i in range(topk_ids.shape[0]):\n",
    "#         for j in range(topk_ids.shape[1]):\n",
    "#             if topk_ids[i][j] == selected_id:\n",
    "#                 topk_ids[i][j] = new_expert_id\n",
    "#                 print(f\"{selected_id} -> {new_expert_id}\")\n",
    "#                 cnt += 1\n",
    "#                 if cnt >= token_num // 2:\n",
    "#                     break\n",
    "#         if cnt >= token_num // 2:\n",
    "#             break\n",
    "\n",
    "#     return topk_ids, new_expert_id\n",
    "\n",
    "# inputs[\"new_topk_ids\"] ,new_expert_id= modify_topk_ids(inputs[\"topk_ids\"],selected_id,max_token_num, config.num_experts )"
   ]
  },
  {
   "cell_type": "code",
   "execution_count": 21,
   "id": "90d4f9d0",
   "metadata": {},
   "outputs": [
    {
     "name": "stdout",
     "output_type": "stream",
     "text": [
      "torch.Size([1000, 4])\n"
     ]
    },
    {
     "data": {
      "text/plain": [
       "torch.Size([120])"
      ]
     },
     "execution_count": 21,
     "metadata": {},
     "output_type": "execute_result"
    }
   ],
   "source": [
    "inputs[\"new_topk_ids\"]= torch.tensor(newly_generated_topk_ids,dtype=torch.int32).to(\"cuda\")\n",
    "print(inputs[\"new_topk_ids\"].shape)\n",
    "worker[\"expert_map\"].shape"
   ]
  },
  {
   "cell_type": "markdown",
   "id": "97b80aeb",
   "metadata": {},
   "source": [
    "## with expert duplication"
   ]
  },
  {
   "cell_type": "code",
   "execution_count": 22,
   "id": "5248bd94",
   "metadata": {},
   "outputs": [
    {
     "name": "stdout",
     "output_type": "stream",
     "text": [
      "INFO 05-11 03:40:14 [fused_moe.py:1658] expert_ids.shape: torch.Size([181])\n",
      "torch.Size([1000, 2048])\n",
      "latency_ms 2.540544033050537\n",
      "INFO 05-11 03:40:14 [fused_moe.py:1658] expert_ids.shape: torch.Size([181])\n",
      "torch.Size([1000, 2048])\n",
      "latency_ms 1.6261119842529297\n",
      "INFO 05-11 03:40:14 [fused_moe.py:1658] expert_ids.shape: torch.Size([181])\n",
      "torch.Size([1000, 2048])\n",
      "latency_ms 1.6066559553146362\n",
      "INFO 05-11 03:40:14 [fused_moe.py:1658] expert_ids.shape: torch.Size([181])\n",
      "torch.Size([1000, 2048])\n",
      "latency_ms 1.6373759508132935\n"
     ]
    }
   ],
   "source": [
    "\n",
    "def new_moe_forward(worker, inputs ):\n",
    "    start_event = torch.cuda.Event(enable_timing=True)\n",
    "    end_event = torch.cuda.Event(enable_timing=True)\n",
    "    start_event.record()\n",
    "    output = fused_experts_impl(\n",
    "        hidden_states = inputs[\"hidden_states\"],\n",
    "        w1 = worker[\"w1\"],\n",
    "        w2 = worker[\"w2\"],\n",
    "        topk_weights = inputs[\"topk_weights\"],\n",
    "        topk_ids = inputs[\"new_topk_ids\"],\n",
    "        inplace = True,\n",
    "        activation = \"silu\",\n",
    "        expert_map =worker[\"expert_map\"]  ,\n",
    "        global_num_experts =worker[\"expert_map\"].shape[0]\n",
    "    )\n",
    "    end_event.record()\n",
    "    torch.cuda.synchronize()\n",
    "    latency_ms = start_event.elapsed_time(end_event)\n",
    "    return output,latency_ms\n",
    "local_latency_with_expert_duplication_time_cost=[]\n",
    "for worker in workers:\n",
    "    worker[\"new_output\"],latency_ms = new_moe_forward (worker, inputs)\n",
    "    local_latency_with_expert_duplication_time_cost.append(latency_ms)\n",
    "    print(worker[\"new_output\"].shape)\n",
    "    print(\"latency_ms\", latency_ms)"
   ]
  },
  {
   "cell_type": "code",
   "execution_count": 23,
   "id": "87c5490c",
   "metadata": {},
   "outputs": [
    {
     "name": "stdout",
     "output_type": "stream",
     "text": [
      "True\n",
      "True\n",
      "True\n",
      "True\n"
     ]
    }
   ],
   "source": [
    "for i in workers:\n",
    "    print(torch.equal(\n",
    "        i[\"new_output\"], i[\"output\"]\n",
    "    ))"
   ]
  },
  {
   "cell_type": "code",
   "execution_count": 24,
   "id": "6360ca13",
   "metadata": {},
   "outputs": [
    {
     "data": {
      "image/png": "[encoded data removed]",
      "text/plain": [
       "<Figure size 800x500 with 1 Axes>"
      ]
     },
     "metadata": {},
     "output_type": "display_data"
    }
   ],
   "source": [
    "my_plot(inputs[\"topk_ids\"] )\n"
   ]
  },
  {
   "cell_type": "code",
   "execution_count": 25,
   "id": "61b48a3d",
   "metadata": {},
   "outputs": [
    {
     "name": "stdout",
     "output_type": "stream",
     "text": [
      "4 -> 64\n",
      "7 -> 67\n",
      "33 -> 93\n",
      "35 -> 95\n",
      "6 -> 66\n",
      "47 -> 107\n",
      "2 -> 62\n",
      "28 -> 88\n",
      "43 -> 103\n",
      "21 -> 81\n",
      "34 -> 94\n",
      "19 -> 79\n",
      "23 -> 83\n",
      "30 -> 90\n",
      "53 -> 113\n",
      "40 -> 100\n",
      "50 -> 110\n",
      "29 -> 89\n",
      "8 -> 68\n",
      "38 -> 98\n",
      "54 -> 114\n",
      "12 -> 72\n",
      "13 -> 73\n",
      "15 -> 75\n",
      "16 -> 76\n",
      "37 -> 97\n",
      "31 -> 91\n"
     ]
    },
    {
     "data": {
      "text/plain": [
       "27"
      ]
     },
     "execution_count": 25,
     "metadata": {},
     "output_type": "execute_result"
    }
   ],
   "source": [
    "selected_ids=[k for k,v in exceeded_expert_load.items() if v!=0]\n",
    "new_expert_ids=[i+60 for i in selected_ids]\n",
    "for s,n in zip(selected_ids,new_expert_ids):\n",
    "    print(f\"{s} -> {n}\")\n",
    "len(new_expert_ids)"
   ]
  },
  {
   "cell_type": "markdown",
   "id": "3292cd36",
   "metadata": {},
   "source": [
    "## plot the experts load "
   ]
  },
  {
   "cell_type": "code",
   "execution_count": 26,
   "id": "0e75b25c",
   "metadata": {},
   "outputs": [
    {
     "data": {
      "image/png": "[encoded data removed]",
      "text/plain": [
       "<Figure size 800x500 with 1 Axes>"
      ]
     },
     "metadata": {},
     "output_type": "display_data"
    }
   ],
   "source": [
    "def my_plot(topk_ids, selected=None, new_id=None):\n",
    "    count = Counter(topk_ids.flatten().tolist())\n",
    "    count = Counter({k: count.get(k, 0) for k in range(120)})\n",
    "    \n",
    "    sorted_counts = sorted(count.items(), key=lambda x: x[0])\n",
    "    elements = [k for k, v in sorted_counts]\n",
    "    values = [v for k, v in sorted_counts] \n",
    "    colors = [  'skyblue' for v in range(120)]\n",
    "    if selected != None:\n",
    "        for s in selected:\n",
    "            colors[s] = 'green'\n",
    "    if new_id!= None:\n",
    "        for n in new_id:\n",
    "            colors[n] = 'red'\n",
    "    # 绘制柱状图\n",
    "    plt.figure(figsize=(8, 5))\n",
    "    plt.bar(elements, values, color=colors)\n",
    "    plt.title('Frequency of Each Element', fontsize=14)\n",
    "    plt.xlabel('Element', fontsize=12)\n",
    "    plt.ylabel('Frequency', fontsize=12)\n",
    "    for i, value in enumerate(values):\n",
    "        plt.text(elements[i], value + 0.1, str(value), ha='center', va='bottom', fontsize=10)\n",
    "\n",
    "    plt.grid(True, linestyle='--', alpha=0.5)\n",
    "    plt.tight_layout()\n",
    "    plt.show()\n",
    "my_plot(inputs[\"new_topk_ids\"], selected_ids, new_expert_ids)\n"
   ]
  },
  {
   "cell_type": "code",
   "execution_count": 27,
   "id": "8c44026f",
   "metadata": {},
   "outputs": [
    {
     "data": {
      "text/plain": [
       "dict_keys(['topk_ids', 'topk_weights', 'hidden_states'])"
      ]
     },
     "execution_count": 27,
     "metadata": {},
     "output_type": "execute_result"
    }
   ],
   "source": [
    "inputs_container.keys()"
   ]
  },
  {
   "cell_type": "code",
   "execution_count": 28,
   "id": "e2ad4307",
   "metadata": {},
   "outputs": [],
   "source": [
    "inputs_container[\"topk_ids\"]=newly_generated_topk_ids\n"
   ]
  },
  {
   "cell_type": "code",
   "execution_count": 29,
   "id": "a5af8171",
   "metadata": {},
   "outputs": [
    {
     "name": "stdout",
     "output_type": "stream",
     "text": [
      "Container 0 latency: 1.3375359773635864 ms\n",
      "output.shape torch.Size([1000, 2048])\n",
      "Container 1 latency: 1.2739839553833008 ms\n",
      "output.shape torch.Size([1000, 2048])\n",
      "Container 2 latency: 1.2752959728240967 ms\n",
      "output.shape torch.Size([1000, 2048])\n",
      "Container 3 latency: 1.3663359880447388 ms\n",
      "output.shape torch.Size([1000, 2048])\n"
     ]
    }
   ],
   "source": [
    "import requests\n",
    "out_hidden_states = []\n",
    "container_latency_with_expert_duplication_time_cost=[]\n",
    "for i in range(WORLD_SIZE):\n",
    "    url = f\"http://localhost:500{i}/forward\"\n",
    "    inputs_container[\"expert_map\"] = container_expert_maps[i]\n",
    "    response = requests.post(url, json=inputs_container)\n",
    "\n",
    "    output = torch.tensor(response.json()[\"hidden_output\"],dtype=torch.bfloat16,device=\"cuda:0\")\n",
    "    latency_ms = response.json()[\"latency_ms\"]\n",
    "    container_latency_with_expert_duplication_time_cost.append(latency_ms)\n",
    "    print(f\"Container {i} latency: {latency_ms} ms\")\n",
    "    print(\"output.shape\", output.shape)\n",
    "    out_hidden_states.append(output)\n"
   ]
  },
  {
   "cell_type": "markdown",
   "id": "df3b3191",
   "metadata": {},
   "source": [
    "## Plot time usage"
   ]
  },
  {
   "cell_type": "code",
   "execution_count": 30,
   "id": "86df03b2",
   "metadata": {},
   "outputs": [
    {
     "data": {
      "image/png": "[encoded data removed]",
      "text/plain": [
       "<Figure size 1000x600 with 1 Axes>"
      ]
     },
     "metadata": {},
     "output_type": "display_data"
    }
   ],
   "source": [
    "import matplotlib.pyplot as plt\n",
    "from collections import Counter\n",
    "\n",
    "xaxis_label=[\"rank0:local\",\"rank1:local\",\"rank2:local\",\"rank3:local\",\n",
    "             \"rank0:container\",\"rank1:container\",\"rank2:container\",\"rank3:container\",\n",
    "             \"rank0:without_expert_duplication\",\n",
    "             \"rank1:without_expert_duplication\",\"rank2:without_expert_duplication\",\"rank3:without_expert_duplication\"]\n",
    "# Sample data with string keys\n",
    "value = local_latency_with_expert_duplication_time_cost + container_latency_with_expert_duplication_time_cost+without_expert_duplication_time_cost\n",
    "data = {k: v for k, v in zip(xaxis_label, value)}\n",
    "\n",
    "# Custom colors for each bar (can use color names or hex codes)\n",
    "bar_colors = ['blue']*4+['orange']*4+['red']*4\n",
    "\n",
    "# Create figure and axis\n",
    "fig, ax = plt.subplots(figsize=(10, 6))\n",
    "\n",
    "# Plot bars with custom colors\n",
    "bars = ax.bar(data.keys(), data.values(), color=bar_colors)\n",
    "\n",
    "# Customize the plot\n",
    "ax.set_title('Total time cost', fontsize=14, pad=20)\n",
    "ax.set_ylabel('latency(ms)', fontsize=12)\n",
    "ax.set_xlabel('rank', fontsize=12)\n",
    "\n",
    "# Rotate x-axis labels if needed\n",
    "plt.xticks(rotation=45, ha='right')\n",
    "\n",
    "# # Add value labels on top of each bar\n",
    "# for bar in bars:\n",
    "#     height = bar.get_height()\n",
    "#     ax.text(bar.get_x() + bar.get_width()/2., height,\n",
    "#             f'{height:.2f}',\n",
    "#             ha='center', va='bottom')\n",
    "\n",
    "# Adjust layout to prevent label cutoff\n",
    "plt.tight_layout()\n",
    "\n",
    "# Show the plot\n",
    "plt.show()"
   ]
  }
 ],
 "metadata": {
  "kernelspec": {
   "display_name": "myvllm",
   "language": "python",
   "name": "python3"
  },
  "language_info": {
   "codemirror_mode": {
    "name": "ipython",
    "version": 3
   },
   "file_extension": ".py",
   "mimetype": "text/x-python",
   "name": "python",
   "nbconvert_exporter": "python",
   "pygments_lexer": "ipython3",
   "version": "3.12.3"
  }
 },
 "nbformat": 4,
 "nbformat_minor": 5
}
