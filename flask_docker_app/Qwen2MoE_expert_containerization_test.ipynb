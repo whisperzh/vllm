{
 "cells": [
  {
   "cell_type": "markdown",
   "id": "c51d0223",
   "metadata": {},
   "source": [
    "## Container Preparation"
   ]
  },
  {
   "cell_type": "markdown",
   "id": "017758fb",
   "metadata": {},
   "source": [
    "### Load dependencies"
   ]
  },
  {
   "cell_type": "code",
   "execution_count": 1,
   "id": "4ef62967",
   "metadata": {},
   "outputs": [],
   "source": [
    "# import docker\n",
    "import requests\n",
    "import torch\n",
    "import time\n",
    "import random\n",
    "\n",
    "# client = docker.from_env()\n",
    "\n",
    "# --- Configs ---\n",
    "\n",
    "torch.cuda.empty_cache()\n",
    "torch.cuda.synchronize()\n",
    "NUM_CONTAINERS = 2\n",
    "IMAGE_NAME = \"moe_expert\"\n",
    "EXPERT_TIMEOUT = 20  # seconds\n",
    "\n"
   ]
  },
  {
   "cell_type": "code",
   "execution_count": 1,
   "id": "d9cd8e19",
   "metadata": {},
   "outputs": [
    {
     "name": "stdout",
     "output_type": "stream",
     "text": [
      "/root/vllm_test/myllm/lib/python3.10/site-packages/torch/share/cmake\n"
     ]
    }
   ],
   "source": [
    "import torch\n",
    "print(torch.utils.cmake_prefix_path)"
   ]
  },
  {
   "cell_type": "markdown",
   "id": "2213789a",
   "metadata": {},
   "source": [
    "### Build Image"
   ]
  },
  {
   "cell_type": "code",
   "execution_count": 2,
   "id": "e0946db3",
   "metadata": {},
   "outputs": [
    {
     "name": "stdout",
     "output_type": "stream",
     "text": [
      "\u001b[1A\u001b[1B\u001b[0G\u001b[?25l[+] Building 0.0s (1/1)                                          docker:default\n",
      "\u001b[34m => [internal] load build definition from Dockerfile                       0.0s\n",
      "\u001b[0m\u001b[?25h"
     ]
    },
    {
     "name": "stdout",
     "output_type": "stream",
     "text": [
      "\u001b[1A\u001b[1A\u001b[0G\u001b[?25l[+] Building 0.2s (1/2)                                          docker:default\n",
      "\u001b[34m => [internal] load build definition from Dockerfile                       0.0s\n",
      "\u001b[0m\u001b[34m => => transferring dockerfile: 896B                                       0.0s\n",
      "\u001b[0m => [internal] load metadata for docker.io/nvidia/cuda:12.1.1-base-ubuntu  0.2s\n",
      "\u001b[?25h\u001b[1A\u001b[1A\u001b[1A\u001b[1A\u001b[0G\u001b[?25l[+] Building 0.2s (2/2)                                          docker:default\n",
      "\u001b[34m => [internal] load build definition from Dockerfile                       0.0s\n",
      "\u001b[0m\u001b[34m => => transferring dockerfile: 896B                                       0.0s\n",
      "\u001b[0m\u001b[34m => [internal] load metadata for docker.io/nvidia/cuda:12.1.1-base-ubuntu  0.2s\n",
      "\u001b[0m\u001b[?25h\u001b[1A\u001b[1A\u001b[1A\u001b[1A\u001b[0G\u001b[?25l[+] Building 0.3s (11/12)                                        docker:default\n",
      "\u001b[34m => [internal] load build definition from Dockerfile                       0.0s\n",
      "\u001b[0m\u001b[34m => => transferring dockerfile: 896B                                       0.0s\n",
      "\u001b[0m\u001b[34m => [internal] load metadata for docker.io/nvidia/cuda:12.1.1-base-ubuntu  0.2s\n",
      "\u001b[0m\u001b[34m => [internal] load .dockerignore                                          0.0s\n",
      "\u001b[0m\u001b[34m => => transferring context: 2B                                            0.0s\n",
      "\u001b[0m\u001b[34m => [1/7] FROM docker.io/nvidia/cuda:12.1.1-base-ubuntu22.04@sha256:457a4  0.0s\n",
      "\u001b[0m\u001b[34m => [internal] load build context                                          0.0s\n",
      "\u001b[0m\u001b[34m => => transferring context: 821.81kB                                      0.0s\n",
      "\u001b[0m\u001b[34m => CACHED [2/7] WORKDIR /app                                              0.0s\n",
      "\u001b[0m\u001b[34m => CACHED [3/7] RUN apt-get update && apt-get install -y git python3 pyt  0.0s\n",
      "\u001b[0m\u001b[34m => CACHED [4/7] RUN pip3 install -v flask                                 0.0s\n",
      "\u001b[0m\u001b[34m => CACHED [5/7] RUN pip3 install -v vllm                                  0.0s\n",
      "\u001b[0m\u001b[34m => CACHED [6/7] COPY expert.py /app                                       0.0s\n",
      "\u001b[0m\u001b[34m => [7/7] COPY ./cuda_tools/libipc_tensor_tool.so /app                     0.0s\n",
      "\u001b[0m => exporting to image                                                     0.0s\n",
      "\u001b[34m => => exporting layers                                                    0.0s\n",
      "\u001b[0m\u001b[?25h\u001b[1A\u001b[1A\u001b[1A\u001b[1A\u001b[1A\u001b[1A\u001b[1A\u001b[1A\u001b[1A\u001b[1A\u001b[1A\u001b[1A\u001b[1A\u001b[1A\u001b[1A\u001b[1A\u001b[1A\u001b[0G\u001b[?25l[+] Building 0.4s (12/12) FINISHED                               docker:default\n",
      "\u001b[34m => [internal] load build definition from Dockerfile                       0.0s\n",
      "\u001b[0m\u001b[34m => => transferring dockerfile: 896B                                       0.0s\n",
      "\u001b[0m\u001b[34m => [internal] load metadata for docker.io/nvidia/cuda:12.1.1-base-ubuntu  0.2s\n",
      "\u001b[0m\u001b[34m => [internal] load .dockerignore                                          0.0s\n",
      "\u001b[0m\u001b[34m => => transferring context: 2B                                            0.0s\n",
      "\u001b[0m\u001b[34m => [1/7] FROM docker.io/nvidia/cuda:12.1.1-base-ubuntu22.04@sha256:457a4  0.0s\n",
      "\u001b[0m\u001b[34m => [internal] load build context                                          0.0s\n",
      "\u001b[0m\u001b[34m => => transferring context: 821.81kB                                      0.0s\n",
      "\u001b[0m\u001b[34m => CACHED [2/7] WORKDIR /app                                              0.0s\n",
      "\u001b[0m\u001b[34m => CACHED [3/7] RUN apt-get update && apt-get install -y git python3 pyt  0.0s\n",
      "\u001b[0m\u001b[34m => CACHED [4/7] RUN pip3 install -v flask                                 0.0s\n",
      "\u001b[0m\u001b[34m => CACHED [5/7] RUN pip3 install -v vllm                                  0.0s\n",
      "\u001b[0m\u001b[34m => CACHED [6/7] COPY expert.py /app                                       0.0s\n",
      "\u001b[0m\u001b[34m => [7/7] COPY ./cuda_tools/libipc_tensor_tool.so /app                     0.0s\n",
      "\u001b[0m\u001b[34m => exporting to image                                                     0.1s\n",
      "\u001b[0m\u001b[34m => => exporting layers                                                    0.0s\n",
      "\u001b[0m\u001b[34m => => writing image sha256:1f78c9e71485321dc8ac7d84c4fe0a4f5f666a8678493  0.0s\n",
      "\u001b[0m\u001b[34m => => naming to docker.io/library/moe_expert                              0.0s\n",
      "\u001b[0m\u001b[?25h"
     ]
    }
   ],
   "source": [
    "! docker build -t moe_expert ~/vllm_test_field/vllm/flask_docker_app/."
   ]
  },
  {
   "cell_type": "markdown",
   "id": "c9c80100",
   "metadata": {},
   "source": [
    "## Launching instances"
   ]
  },
  {
   "cell_type": "code",
   "execution_count": 3,
   "id": "ea405bd7",
   "metadata": {},
   "outputs": [
    {
     "name": "stdout",
     "output_type": "stream",
     "text": [
      "33d11858ae5d2899a68a829c25d74814b3e4b071afc316d07deeabb9e9f6f877\n",
      "fused_moe_layer_23_exp_0_29\n",
      "容器启动成功！\n",
      "7425fe02fa31ff10d285e53a8a399ab425be567b446295d55229fe412f170234\n",
      "fused_moe_layer_23_exp_30_59\n",
      "容器启动成功！\n"
     ]
    }
   ],
   "source": [
    "import subprocess\n",
    "\n",
    "# --- Step 2: Launch Expert Containers ---\n",
    "containers = []\n",
    "layer = 23\n",
    "\n",
    "experts_count_per_container = 60//NUM_CONTAINERS\n",
    "for i in range(NUM_CONTAINERS):\n",
    "    cmd = [\n",
    "    \"docker\", \"run\", \"-d\",\n",
    "    \"--name\", f\"fused_moe_layer_{layer}_exp_{i*experts_count_per_container}_{(i+1)*experts_count_per_container-1}\",\n",
    "    \"--gpus\", \"all\",\n",
    "    # \"--rm\",\n",
    "    \"-p\", f\"{5000+i}:5000\",\n",
    "    \"-v\", \"/home/ubuntu/vllm_test_field/vllm/ipc_handler_demo/weights:/app/weights\",\n",
    "    \"-e\", f\"RANK={i}\",\n",
    "    \"-e\", f\"NUM_EXPERTS={experts_count_per_container}\",\n",
    "    \"-e\", f\"GPU_IDX={0}\",\n",
    "    \"-e\", f\"WEIGHT_PATH=/app/weights\",\n",
    "    \"-e\", f\"LAYER={layer}\",\n",
    "    \n",
    "    IMAGE_NAME\n",
    "    ]\n",
    "    try:\n",
    "        subprocess.run(cmd, check=True)\n",
    "        print(f\"fused_moe_layer_{layer}_exp_{i*experts_count_per_container}_{(i+1)*experts_count_per_container-1}\\n容器启动成功！\")\n",
    "    except subprocess.CalledProcessError as e:\n",
    "        print(f\"启动失败: {e}\")\n",
    "    \n",
    "\n",
    "\n"
   ]
  },
  {
   "cell_type": "markdown",
   "id": "ff3eb9a9",
   "metadata": {},
   "source": [
    "### View if the instance is running correctly"
   ]
  },
  {
   "cell_type": "code",
   "execution_count": 4,
   "id": "c24d3aad",
   "metadata": {},
   "outputs": [
    {
     "name": "stdout",
     "output_type": "stream",
     "text": [
      "CONTAINER ID   IMAGE        COMMAND                 CREATED         STATUS         PORTS                                         NAMES\n",
      "330ffb383d8e   moe_expert   \"python3 ./expert.py\"   3 seconds ago   Up 3 seconds   0.0.0.0:5001->5000/tcp, [::]:5001->5000/tcp   fused_moe_layer_23_exp_30_59\n",
      "ba41bfb0149a   moe_expert   \"python3 ./expert.py\"   4 seconds ago   Up 3 seconds   0.0.0.0:5000->5000/tcp, [::]:5000->5000/tcp   fused_moe_layer_23_exp_0_29\n"
     ]
    }
   ],
   "source": [
    "! docker ps"
   ]
  },
  {
   "cell_type": "markdown",
   "id": "a3d8acb0",
   "metadata": {},
   "source": [
    "## Testing container function"
   ]
  },
  {
   "cell_type": "markdown",
   "id": "0d359d29",
   "metadata": {},
   "source": [
    "### Load Inputs"
   ]
  },
  {
   "cell_type": "code",
   "execution_count": 1,
   "id": "affb7c66",
   "metadata": {},
   "outputs": [],
   "source": [
    "import torch\n",
    "import requests\n",
    "def load_tensor(path):\n",
    "    tensors = {}\n",
    "    try:\n",
    "        tensors[\"hidden_states\"] = torch.load(path + \"hidden_states.pt\").to(\"cuda:0\")\n",
    "        tensors[\"w1\"] = torch.load(path + \"w1.pt\").to(\"cuda:0\")\n",
    "        tensors[\"w2\"] = torch.load(path + \"w2.pt\").to(\"cuda:0\")\n",
    "        tensors[\"topk_weights\"] = torch.load(path + \"topk_weights.pt\").to(\"cuda:0\")\n",
    "        tensors[\"topk_ids\"] = torch.load(path + \"topk_ids.pt\", map_location=\"cuda:0\")\n",
    "        tensors[\"expert_map\"] = torch.load(path + \"expert_map.pt\").to(\"cuda:0\")\n",
    "        tensors[\"out_hidden_states\"] = torch.load(path + \"out_hidden_states.pt\").to(\"cuda:0\")\n",
    "        tensors[\"final_hidden_states\"] = torch.load(path + \"final_hidden_states.pt\").to(\"cuda:0\")\n",
    "    except FileNotFoundError as e:\n",
    "        print(f\"Error: File not found - {e}\")\n",
    "    except RuntimeError as e:\n",
    "        print(f\"Error: CUDA runtime issue - {e}\")\n",
    "    except Exception as e:\n",
    "        print(f\"Unexpected error: {e}\")\n",
    "    return tensors\n",
    "\n",
    "rank0 = load_tensor(\"/root/vllm_test/saved_tensors/rank_0/\")\n",
    "# rank1 = load_tensor(\"/home/ubuntu/vllm_test_field/saved_tensors/rank_1/\")"
   ]
  },
  {
   "cell_type": "markdown",
   "id": "fce610d2",
   "metadata": {},
   "source": [
    "### Prepare handler and meta data"
   ]
  },
  {
   "cell_type": "code",
   "execution_count": 2,
   "id": "4086a657",
   "metadata": {},
   "outputs": [
    {
     "data": {
      "text/plain": [
       "tensor([[27, 49, 41,  2],\n",
       "        [59,  3, 31, 41],\n",
       "        [24, 11, 52, 48],\n",
       "        [29, 53, 47, 13],\n",
       "        [13, 11, 52, 16],\n",
       "        [ 1, 11, 26, 17]], device='cuda:0', dtype=torch.int32)"
      ]
     },
     "execution_count": 2,
     "metadata": {},
     "output_type": "execute_result"
    }
   ],
   "source": [
    "rank0[\"topk_ids\"]"
   ]
  },
  {
   "cell_type": "code",
   "execution_count": 1,
   "id": "5d7fc9a4",
   "metadata": {},
   "outputs": [],
   "source": [
    "import torch\n",
    "import ctypes\n",
    "\n",
    "# Load the shared lib\n",
    "lib = ctypes.CDLL('/root/vllm_test/vllm/ipc_handler_demo/cuda_tools/libipc_tensor_tool.so')\n",
    "lib.export_ipc_handle.argtypes = [ctypes.c_void_p, ctypes.c_void_p]\n",
    "lib.export_ipc_handle.restype = ctypes.c_int\n",
    "\n",
    "def get_ipc_handle(tensor: torch.Tensor) -> bytes:\n",
    "    \n",
    "    meta={\n",
    "        \"shape\": tensor.shape,\n",
    "        \"dtype\": str(tensor.dtype),\n",
    "        \"device\": int(tensor.device.index),\n",
    "        \"numel\": tensor.numel(),\n",
    "    }\n",
    "    if not tensor.is_cuda:\n",
    "        raise ValueError(\"Tensor must be on CUDA device\")\n",
    "\n",
    "    dev_ptr = tensor.data_ptr()\n",
    "    out = ctypes.create_string_buffer(64)\n",
    "\n",
    "    result = lib.export_ipc_handle(ctypes.c_void_p(dev_ptr), out)\n",
    "    if result != 0:\n",
    "        raise RuntimeError(f\"export_ipc_handle failed with code {result}\")\n",
    "\n",
    "    return out.raw, meta  # This is the 64-byte IPC handle\n"
   ]
  },
  {
   "cell_type": "code",
   "execution_count": null,
   "id": "49bb34a1",
   "metadata": {},
   "outputs": [
    {
     "name": "stdout",
     "output_type": "stream",
     "text": [
      "topk_ids.shape torch.Size([128, 4]) torch.int32\n",
      "topk_weights.shape torch.Size([128, 4]) torch.float32\n",
      "hidden_states.shape torch.Size([128, 2048]) torch.bfloat16\n"
     ]
    }
   ],
   "source": [
    "TOKEN_NUM = 128\n",
    "def create_input(token_num):\n",
    "    topk_ids = torch.randint(0, 60, (token_num, 4), dtype=torch.int32).to(\"cuda\")\n",
    "    topk_weights = torch.randn(token_num, 4, dtype=torch.float32).to(\"cuda\")\n",
    "    hidden_states = torch.randn( token_num,2048, dtype=torch.bfloat16).to(\"cuda\") # \n",
    "    print(\"topk_ids.shape\", topk_ids.shape, topk_ids.dtype)\n",
    "    print(\"topk_weights.shape\", topk_weights.shape, topk_weights.dtype)\n",
    "    print(\"hidden_states.shape\", hidden_states.shape, hidden_states.dtype)\n",
    "    return {\"topk_ids\":topk_ids,\"topk_weights\":topk_weights, \"hidden_states\":hidden_states }\n",
    "\n",
    "inputs = create_input( TOKEN_NUM)"
   ]
  },
  {
   "cell_type": "code",
   "execution_count": null,
   "id": "9baa2ee3",
   "metadata": {},
   "outputs": [
    {
     "name": "stdout",
     "output_type": "stream",
     "text": [
      "tensor([[40, 33, 37,  0],\n",
      "        [17,  9, 12, 11],\n",
      "        [ 5,  6, 34, 19],\n",
      "        [ 0, 57,  5, 47],\n",
      "        [20, 25, 55,  4],\n",
      "        [ 8,  5,  9, 26],\n",
      "        [19,  7, 59,  4],\n",
      "        [13, 18, 24, 46],\n",
      "        [33, 27,  5, 48],\n",
      "        [ 3, 36, 10, 53],\n",
      "        [30,  9, 14, 55],\n",
      "        [57, 30, 16, 48],\n",
      "        [55, 13,  5,  2],\n",
      "        [13,  7, 23, 13],\n",
      "        [35, 10, 54, 33],\n",
      "        [23, 42,  6, 45],\n",
      "        [18,  6, 18, 43],\n",
      "        [48,  0, 41,  8],\n",
      "        [13, 28,  5, 10],\n",
      "        [21, 52, 20, 14],\n",
      "        [14, 11, 22, 54],\n",
      "        [29, 33, 34, 13],\n",
      "        [17,  4,  6, 54],\n",
      "        [53, 34, 21,  3],\n",
      "        [38, 37, 47, 37],\n",
      "        [ 1, 17, 20,  6],\n",
      "        [16, 13, 33, 36],\n",
      "        [31, 28, 34, 48],\n",
      "        [ 6, 16, 12, 41],\n",
      "        [15, 38, 30, 17],\n",
      "        [ 3, 24, 30, 56],\n",
      "        [34, 48, 27, 57],\n",
      "        [10, 13,  0, 34],\n",
      "        [ 7, 28, 14, 17],\n",
      "        [43, 53, 35, 24],\n",
      "        [ 2, 13, 19, 53],\n",
      "        [ 9, 44, 44,  0],\n",
      "        [ 4, 16,  5, 11],\n",
      "        [40, 30, 51, 51],\n",
      "        [57, 56, 32, 13],\n",
      "        [19, 18, 56, 23],\n",
      "        [55, 58, 29, 18],\n",
      "        [18,  2, 33, 18],\n",
      "        [ 9, 42,  3,  1],\n",
      "        [57, 24, 22, 43],\n",
      "        [56, 22, 33, 15],\n",
      "        [48, 41,  9,  8],\n",
      "        [11, 36, 42, 13],\n",
      "        [42,  1, 44, 45],\n",
      "        [27,  0, 41, 24],\n",
      "        [12, 50, 16, 43],\n",
      "        [36, 37, 48, 22],\n",
      "        [55, 34, 45, 28],\n",
      "        [51, 52, 10,  2],\n",
      "        [ 7, 36, 51, 35],\n",
      "        [ 5, 52, 23,  4],\n",
      "        [53, 12, 55, 49],\n",
      "        [ 2, 58, 50, 36],\n",
      "        [13,  7, 10, 39],\n",
      "        [30, 57, 21,  4],\n",
      "        [43, 28, 48, 58],\n",
      "        [ 7,  5, 18, 36],\n",
      "        [13, 22, 24, 42],\n",
      "        [ 5, 41, 48, 19],\n",
      "        [46,  0, 33, 34],\n",
      "        [12, 46, 57, 42],\n",
      "        [26, 21, 24, 17],\n",
      "        [15, 23,  9, 18],\n",
      "        [18, 57, 54, 29],\n",
      "        [58, 39, 34,  1],\n",
      "        [19, 28, 41, 40],\n",
      "        [ 6, 48, 44, 46],\n",
      "        [49, 51, 13, 33],\n",
      "        [45, 33, 19, 35],\n",
      "        [22, 18, 57, 10],\n",
      "        [15, 30, 49, 42],\n",
      "        [36,  0, 36,  9],\n",
      "        [39, 52, 50,  2],\n",
      "        [ 7,  0, 11, 53],\n",
      "        [22, 56, 46, 42],\n",
      "        [12, 50, 23, 44],\n",
      "        [33, 19, 46, 14],\n",
      "        [48, 41, 24, 20],\n",
      "        [ 3, 49, 10, 57],\n",
      "        [58, 40, 43, 35],\n",
      "        [ 5, 20, 30, 29],\n",
      "        [34, 13,  3,  5],\n",
      "        [10, 36, 44, 19],\n",
      "        [54, 55,  7, 46],\n",
      "        [26, 25, 37, 55],\n",
      "        [46, 34, 49, 13],\n",
      "        [51, 10, 54, 49],\n",
      "        [43, 14,  2, 46],\n",
      "        [ 0, 35, 25, 19],\n",
      "        [ 2, 10, 57, 28],\n",
      "        [38, 27, 25, 35],\n",
      "        [14, 10, 20, 28],\n",
      "        [ 6, 37, 27,  1],\n",
      "        [12, 53, 58, 34],\n",
      "        [41, 24, 32, 42],\n",
      "        [29, 25, 31, 45],\n",
      "        [58, 31,  5, 41],\n",
      "        [28, 38, 56,  3],\n",
      "        [48,  0, 30, 43],\n",
      "        [51, 56, 44, 49],\n",
      "        [57, 40, 55, 21],\n",
      "        [24, 34,  2, 53],\n",
      "        [10,  3, 20, 57],\n",
      "        [45,  8, 55,  6],\n",
      "        [31,  2, 24, 49],\n",
      "        [54, 36, 38, 35],\n",
      "        [31, 17, 36, 18],\n",
      "        [11, 24, 41,  4],\n",
      "        [22, 31,  1, 18],\n",
      "        [ 0, 20, 16, 43],\n",
      "        [28, 49, 17, 39],\n",
      "        [ 6, 54, 44, 18],\n",
      "        [ 9, 17, 16, 34],\n",
      "        [48, 43, 21,  0],\n",
      "        [32,  8, 24, 54],\n",
      "        [17, 53, 20,  8],\n",
      "        [24, 52, 50, 15],\n",
      "        [ 9,  3, 18, 24],\n",
      "        [ 1, 47, 37, 47],\n",
      "        [50,  4,  5, 29],\n",
      "        [12,  4, 36,  0],\n",
      "        [42, 30, 24, 37],\n",
      "        [57, 35, 32, 53]], device='cuda:0', dtype=torch.int32)\n",
      "tensor([[-8.6445e-02,  4.2183e-01, -7.7884e-01,  8.5440e-01],\n",
      "        [ 1.7508e+00,  3.5687e-01,  9.2051e-01, -2.5749e-02],\n",
      "        [-9.3846e-01,  1.0582e-01,  1.4475e+00, -5.6808e-02],\n",
      "        [-8.2143e-01, -9.4846e-01,  5.9169e-01, -8.9298e-01],\n",
      "        [-5.8688e-01, -2.1564e+00, -5.9645e-01,  1.2192e+00],\n",
      "        [-7.8916e-01,  1.1790e+00,  1.4294e-01, -1.2091e+00],\n",
      "        [-1.1342e+00,  4.7793e-01,  1.1439e+00,  1.4115e+00],\n",
      "        [-8.8057e-01, -4.3095e-01,  8.3845e-01, -3.8246e-01],\n",
      "        [ 1.8541e+00,  1.0696e-01,  6.4410e-01, -1.0457e+00],\n",
      "        [-8.3093e-01, -4.4750e-01, -7.9032e-01, -4.4807e-01],\n",
      "        [ 6.1344e-01, -6.8498e-01,  9.5194e-01,  5.3440e-01],\n",
      "        [ 3.0064e-01, -7.3019e-01,  2.3323e+00,  6.7899e-01],\n",
      "        [-6.6062e-01,  1.4533e-01,  2.0044e-01, -1.1877e+00],\n",
      "        [-4.6987e-01,  1.7060e+00, -1.5054e+00, -7.3019e-01],\n",
      "        [-7.7584e-01, -3.2658e-02,  7.2707e-01, -1.1754e+00],\n",
      "        [-1.2388e+00, -6.3305e-01,  1.5015e+00, -5.4229e-01],\n",
      "        [-8.4496e-01,  1.8383e+00,  1.2771e+00, -1.5738e-01],\n",
      "        [ 5.5917e-01,  4.4933e-01,  1.8563e-01,  4.0786e-01],\n",
      "        [ 1.2119e+00, -3.9606e-01, -9.6483e-01,  1.1769e-01],\n",
      "        [ 2.3713e+00, -3.0585e-01, -1.8857e+00, -1.5505e+00],\n",
      "        [-1.2156e+00, -2.3779e-01, -4.9002e-01,  2.4010e-01],\n",
      "        [-2.1900e+00,  1.7732e+00,  8.1389e-01, -4.3226e-01],\n",
      "        [-4.4293e-01, -1.4721e+00,  6.8801e-01, -2.2106e-01],\n",
      "        [-6.9059e-02, -1.1562e+00, -2.6295e+00,  5.2593e-01],\n",
      "        [-4.4229e-01,  9.7303e-01, -1.4619e-01,  1.2239e+00],\n",
      "        [ 2.0920e+00, -2.3694e-01, -4.9125e-01,  1.9659e+00],\n",
      "        [ 5.3388e-01, -1.1424e-02,  3.0540e+00,  1.4957e+00],\n",
      "        [ 4.5017e-01,  2.2409e-01,  1.7729e-01, -4.3560e-01],\n",
      "        [-9.0716e-01, -1.4113e+00, -1.0316e+00,  2.2237e+00],\n",
      "        [ 7.3795e-01,  1.2710e+00, -3.1128e-01,  1.2826e+00],\n",
      "        [ 7.2947e-01, -2.1032e+00, -5.9907e-01, -1.2778e+00],\n",
      "        [-1.4890e+00,  1.8110e+00, -1.5908e+00, -6.5419e-01],\n",
      "        [-1.0178e+00, -4.0701e-01, -7.5686e-01,  8.5129e-01],\n",
      "        [ 1.7262e+00, -1.6969e-01,  9.0197e-01, -1.8038e+00],\n",
      "        [ 4.9863e-02,  8.2008e-01, -1.2153e+00,  2.6647e-01],\n",
      "        [ 9.9583e-01,  4.5224e-01,  9.9559e-01, -1.0668e+00],\n",
      "        [ 2.0767e+00,  4.3581e-01,  1.4611e-01, -1.3351e+00],\n",
      "        [-1.5685e-01, -2.6852e+00,  1.0037e-01, -3.1535e-01],\n",
      "        [-8.4898e-01,  1.4316e-01, -1.0321e+00,  1.5936e-01],\n",
      "        [ 8.4121e-01,  1.1116e+00,  6.0791e-01, -6.1686e-01],\n",
      "        [ 2.8157e-01, -1.3099e-01, -1.6975e+00,  7.7076e-01],\n",
      "        [ 3.5580e-01,  2.9069e-01, -1.5645e+00, -1.0060e+00],\n",
      "        [-2.6003e-03, -2.7260e+00, -2.3866e+00, -6.2205e-01],\n",
      "        [ 1.7685e+00, -8.6673e-01,  1.4636e-01,  4.1673e-01],\n",
      "        [ 1.1932e+00, -9.1003e-02,  8.3395e-01,  2.0783e+00],\n",
      "        [ 4.9282e-01, -1.1843e+00, -1.1733e+00,  5.5337e-01],\n",
      "        [-1.0854e+00, -1.0681e+00,  1.3882e+00,  4.5284e-01],\n",
      "        [-1.2229e+00,  7.1975e-02, -1.1135e-01, -7.1396e-02],\n",
      "        [-1.7663e-01, -9.0577e-01,  1.4823e+00, -2.2561e-01],\n",
      "        [ 1.1208e-01,  4.9799e-01,  1.3857e+00, -1.3003e+00],\n",
      "        [ 1.0585e-01,  3.0485e-01, -3.0038e-01,  3.9982e-01],\n",
      "        [-6.1869e-01, -8.7805e-01,  1.9320e-01,  7.1624e-01],\n",
      "        [ 1.2440e+00, -7.8612e-01,  2.7539e-01, -7.3295e-02],\n",
      "        [ 6.5629e-01,  6.1343e-01,  1.4796e+00,  1.4539e+00],\n",
      "        [ 2.2687e+00,  3.7137e-01,  2.2832e+00,  6.0837e-01],\n",
      "        [-3.7380e-02, -6.5209e-02, -1.1743e+00, -1.2694e+00],\n",
      "        [ 2.9135e-01,  1.6837e+00, -4.4245e-01,  1.0046e+00],\n",
      "        [-1.2182e-02,  6.2035e-01,  8.9206e-01,  1.8193e-02],\n",
      "        [-5.0771e-01, -2.5879e-01, -1.0596e+00,  8.9298e-01],\n",
      "        [ 1.0375e+00,  1.4229e-01,  6.2171e-01,  2.2879e+00],\n",
      "        [ 9.0617e-01, -9.9223e-01,  3.2172e-01,  1.0016e+00],\n",
      "        [-1.7072e+00, -1.3579e+00,  4.1572e-01,  3.3086e-02],\n",
      "        [ 3.1483e-01,  3.2024e-01,  9.0249e-01,  1.9019e+00],\n",
      "        [ 2.0599e-01,  2.8469e-02,  1.3785e+00,  6.6683e-01],\n",
      "        [-6.6932e-01, -1.3984e+00, -5.6194e-01,  1.3944e+00],\n",
      "        [ 7.2969e-01,  1.0672e+00,  5.3837e-03, -9.9096e-02],\n",
      "        [-9.8426e-01, -2.2689e-01,  1.0856e+00,  7.7265e-01],\n",
      "        [-6.5131e-01,  4.7203e-01, -3.3280e-01,  8.1006e-01],\n",
      "        [-1.1232e+00, -1.3742e+00,  8.6574e-01, -8.0418e-01],\n",
      "        [-6.7056e-01, -1.0467e+00, -8.5982e-01, -8.2914e-02],\n",
      "        [ 1.8693e+00,  1.7202e+00,  3.8227e-01,  5.3532e-01],\n",
      "        [ 6.7977e-01, -1.7484e+00,  8.2088e-01,  1.4399e-01],\n",
      "        [-1.7192e-01,  1.6469e+00,  1.4375e+00,  5.7556e-01],\n",
      "        [-1.8417e+00,  1.1166e+00, -1.8035e+00,  1.4965e+00],\n",
      "        [-4.2880e-01, -5.9849e-01,  9.0811e-01,  1.9772e+00],\n",
      "        [ 3.1189e-01, -1.6719e+00, -5.4980e-01, -6.6218e-03],\n",
      "        [-5.5937e-01,  3.6150e-01, -3.0388e-01,  1.1996e+00],\n",
      "        [-5.0857e-01,  5.8426e-01,  7.6501e-01, -2.6341e-01],\n",
      "        [ 2.1369e+00,  3.2310e+00,  8.5153e-01, -7.4948e-01],\n",
      "        [-9.7254e-01, -8.4890e-01, -6.9774e-02, -1.9499e-01],\n",
      "        [-1.8115e+00, -1.9216e+00, -2.2679e+00,  1.6117e+00],\n",
      "        [ 1.6499e+00, -5.6460e-01, -8.3307e-01, -2.7807e-01],\n",
      "        [ 1.5319e-01,  2.2410e-01,  1.1366e-01,  1.0647e+00],\n",
      "        [ 1.6541e+00, -7.7874e-01, -1.2132e+00, -2.9309e-01],\n",
      "        [ 1.5230e-01,  2.0299e-01, -5.3339e-01, -1.1672e-01],\n",
      "        [ 1.2287e+00,  5.6260e-01, -4.2043e-01, -6.7814e-01],\n",
      "        [ 1.3657e-02,  1.5730e-01, -1.4271e+00,  7.7242e-03],\n",
      "        [-1.4350e+00, -9.6680e-01,  4.8568e-01,  9.0147e-01],\n",
      "        [ 3.0592e-01, -9.3216e-01, -1.2250e+00, -9.8410e-01],\n",
      "        [ 3.7518e-01,  2.2554e-01, -8.1566e-01,  3.5649e-01],\n",
      "        [-1.6686e+00,  8.7309e-01,  5.8450e-01, -1.3048e-01],\n",
      "        [ 8.2035e-01, -2.0739e+00, -4.6778e-01, -3.7643e-01],\n",
      "        [-1.3809e+00, -8.9899e-02, -8.2561e-01,  5.1693e-01],\n",
      "        [-1.8906e+00,  1.2670e+00, -4.3736e-01,  6.0506e-02],\n",
      "        [ 1.0864e+00, -4.1585e-01, -1.6757e+00,  6.4339e-01],\n",
      "        [ 1.7259e-01,  1.7372e-03,  1.1732e+00, -2.8015e+00],\n",
      "        [ 1.2529e+00, -1.5884e-01,  8.7156e-01,  8.1327e-01],\n",
      "        [-7.2314e-01,  7.8930e-01, -7.2702e-01, -8.8895e-01],\n",
      "        [ 1.2227e+00,  1.2750e+00, -6.7165e-01, -6.9973e-02],\n",
      "        [-1.9040e-01, -1.2772e-01,  9.7161e-02, -5.4171e-01],\n",
      "        [-1.4214e-01, -8.2932e-01,  8.2758e-01, -7.1628e-01],\n",
      "        [-3.7288e-01,  1.9716e-01, -1.0821e+00, -1.3252e+00],\n",
      "        [ 1.3314e+00,  1.2715e+00, -5.5697e-01,  1.6328e+00],\n",
      "        [ 1.0574e+00, -5.1331e-01,  1.1260e+00,  1.1942e+00],\n",
      "        [-4.0577e-01,  1.5370e+00,  4.8290e-01,  1.0321e+00],\n",
      "        [-4.9415e-01,  9.8264e-01, -8.8095e-02,  2.3447e+00],\n",
      "        [ 7.4012e-02,  2.2757e+00, -3.0091e-01, -5.6040e-01],\n",
      "        [-3.3821e-01,  5.2805e-01,  3.5505e-01, -9.1851e-01],\n",
      "        [-1.3678e+00,  6.2835e-01,  4.8046e-01,  1.3765e+00],\n",
      "        [-1.3534e+00,  2.3467e+00, -5.6699e-01,  7.9278e-01],\n",
      "        [ 4.8573e-01, -3.1177e-01,  1.9184e+00, -9.2301e-01],\n",
      "        [-3.6283e-01,  5.5487e-01,  1.7076e-01, -1.3731e+00],\n",
      "        [-2.0479e+00,  1.0580e+00, -1.4924e-02, -4.9766e-01],\n",
      "        [-2.5627e-01, -6.7807e-02, -1.6209e-01, -3.6845e-01],\n",
      "        [-1.2634e+00,  4.9393e-01,  2.9680e-01,  2.7665e-01],\n",
      "        [-7.7852e-01,  1.0646e+00,  6.2511e-01, -4.4935e-01],\n",
      "        [ 1.3280e-01, -7.4560e-01,  9.8202e-01,  5.2017e-01],\n",
      "        [ 1.1785e+00,  1.4611e+00,  5.7422e-01,  4.7383e-01],\n",
      "        [-1.8733e+00, -2.0297e-01, -1.2345e+00, -6.7486e-01],\n",
      "        [ 2.7690e-01, -6.2465e-01,  1.5809e+00, -7.3114e-03],\n",
      "        [-4.6734e-01,  4.8411e-01, -3.3518e-01, -2.7910e-01],\n",
      "        [ 1.3690e+00,  8.5638e-01, -2.0925e-02,  3.6358e-01],\n",
      "        [ 4.2466e-01,  4.5266e-01, -1.8319e-01,  3.9141e-01],\n",
      "        [ 1.7192e+00,  2.2015e-01,  5.4125e-01,  4.4982e-01],\n",
      "        [ 1.7806e+00, -1.5362e+00, -1.1636e+00,  7.4448e-01],\n",
      "        [-8.3309e-02,  6.7515e-02,  6.9691e-01,  1.5316e+00],\n",
      "        [-6.1864e-01,  4.1611e-01,  1.4664e+00, -6.7737e-01],\n",
      "        [-2.4674e-01,  1.8967e-02, -1.1859e-01, -1.2423e+00]], device='cuda:0')\n",
      "tensor([[-0.2363, -0.6406, -1.1875,  ..., -0.6367, -0.8711,  0.4902],\n",
      "        [ 1.0078, -1.0078,  0.0391,  ..., -1.7656, -1.6562,  1.9297],\n",
      "        [ 0.3477, -0.1924, -1.9766,  ..., -0.9844, -0.4199, -1.3672],\n",
      "        ...,\n",
      "        [ 0.8984,  0.1670, -0.9297,  ...,  1.9062, -0.6953,  0.3965],\n",
      "        [-0.5859, -0.4199, -0.3203,  ..., -1.4375, -1.8750, -0.5820],\n",
      "        [-0.6094,  0.7422, -0.8594,  ..., -0.1543,  0.6719, -1.0703]],\n",
      "       device='cuda:0', dtype=torch.bfloat16)\n"
     ]
    }
   ],
   "source": [
    "for k in inputs.keys():\n",
    "    print(inputs[k])"
   ]
  },
  {
   "cell_type": "code",
   "execution_count": 4,
   "id": "2932d64b",
   "metadata": {},
   "outputs": [],
   "source": [
    "hidden_states_handler, hidden_states_meta= get_ipc_handle(inputs[\"hidden_states\"])\n",
    "topk_ids_handler, topk_ids_meta = get_ipc_handle(inputs[\"topk_ids\"])\n",
    "topk_weights_handler, topk_weights_meta= get_ipc_handle(inputs[\"topk_weights\"])"
   ]
  },
  {
   "cell_type": "code",
   "execution_count": 5,
   "id": "7cd07c3c",
   "metadata": {},
   "outputs": [],
   "source": [
    "import requests\n",
    "import json\n",
    "# 构建 multipart/form-data 请求\n",
    "files = {\n",
    "    'byte_data': ('data.bin', byte_data, 'application/octet-stream')\n",
    "}\n",
    "\n",
    "data = {\n",
    "    'map_data': json.dumps(map_data)\n",
    "}\n",
    "\n",
    "# 发送 POST 请求\n",
    "response = requests.post(\n",
    "    'http://localhost:1177/upload',\n",
    "    files=files,\n",
    "    data=data\n",
    ")\n",
    "\n",
    "restored_tensor = torch.tensor(response.json()['restored_tensor'], device='cuda:0')\n"
   ]
  },
  {
   "cell_type": "code",
   "execution_count": 5,
   "id": "d1c6d3a3",
   "metadata": {},
   "outputs": [
    {
     "ename": "ConnectionError",
     "evalue": "('Connection aborted.', RemoteDisconnected('Remote end closed connection without response'))",
     "output_type": "error",
     "traceback": [
      "\u001b[0;31m---------------------------------------------------------------------------\u001b[0m",
      "\u001b[0;31mRemoteDisconnected\u001b[0m                        Traceback (most recent call last)",
      "File \u001b[0;32m~/vllm_test/myllm/lib/python3.10/site-packages/urllib3/connectionpool.py:787\u001b[0m, in \u001b[0;36mHTTPConnectionPool.urlopen\u001b[0;34m(self, method, url, body, headers, retries, redirect, assert_same_host, timeout, pool_timeout, release_conn, chunked, body_pos, preload_content, decode_content, **response_kw)\u001b[0m\n\u001b[1;32m    786\u001b[0m \u001b[38;5;66;03m# Make the request on the HTTPConnection object\u001b[39;00m\n\u001b[0;32m--> 787\u001b[0m response \u001b[38;5;241m=\u001b[39m \u001b[38;5;28;43mself\u001b[39;49m\u001b[38;5;241;43m.\u001b[39;49m\u001b[43m_make_request\u001b[49m\u001b[43m(\u001b[49m\n\u001b[1;32m    788\u001b[0m \u001b[43m    \u001b[49m\u001b[43mconn\u001b[49m\u001b[43m,\u001b[49m\n\u001b[1;32m    789\u001b[0m \u001b[43m    \u001b[49m\u001b[43mmethod\u001b[49m\u001b[43m,\u001b[49m\n\u001b[1;32m    790\u001b[0m \u001b[43m    \u001b[49m\u001b[43murl\u001b[49m\u001b[43m,\u001b[49m\n\u001b[1;32m    791\u001b[0m \u001b[43m    \u001b[49m\u001b[43mtimeout\u001b[49m\u001b[38;5;241;43m=\u001b[39;49m\u001b[43mtimeout_obj\u001b[49m\u001b[43m,\u001b[49m\n\u001b[1;32m    792\u001b[0m \u001b[43m    \u001b[49m\u001b[43mbody\u001b[49m\u001b[38;5;241;43m=\u001b[39;49m\u001b[43mbody\u001b[49m\u001b[43m,\u001b[49m\n\u001b[1;32m    793\u001b[0m \u001b[43m    \u001b[49m\u001b[43mheaders\u001b[49m\u001b[38;5;241;43m=\u001b[39;49m\u001b[43mheaders\u001b[49m\u001b[43m,\u001b[49m\n\u001b[1;32m    794\u001b[0m \u001b[43m    \u001b[49m\u001b[43mchunked\u001b[49m\u001b[38;5;241;43m=\u001b[39;49m\u001b[43mchunked\u001b[49m\u001b[43m,\u001b[49m\n\u001b[1;32m    795\u001b[0m \u001b[43m    \u001b[49m\u001b[43mretries\u001b[49m\u001b[38;5;241;43m=\u001b[39;49m\u001b[43mretries\u001b[49m\u001b[43m,\u001b[49m\n\u001b[1;32m    796\u001b[0m \u001b[43m    \u001b[49m\u001b[43mresponse_conn\u001b[49m\u001b[38;5;241;43m=\u001b[39;49m\u001b[43mresponse_conn\u001b[49m\u001b[43m,\u001b[49m\n\u001b[1;32m    797\u001b[0m \u001b[43m    \u001b[49m\u001b[43mpreload_content\u001b[49m\u001b[38;5;241;43m=\u001b[39;49m\u001b[43mpreload_content\u001b[49m\u001b[43m,\u001b[49m\n\u001b[1;32m    798\u001b[0m \u001b[43m    \u001b[49m\u001b[43mdecode_content\u001b[49m\u001b[38;5;241;43m=\u001b[39;49m\u001b[43mdecode_content\u001b[49m\u001b[43m,\u001b[49m\n\u001b[1;32m    799\u001b[0m \u001b[43m    \u001b[49m\u001b[38;5;241;43m*\u001b[39;49m\u001b[38;5;241;43m*\u001b[39;49m\u001b[43mresponse_kw\u001b[49m\u001b[43m,\u001b[49m\n\u001b[1;32m    800\u001b[0m \u001b[43m\u001b[49m\u001b[43m)\u001b[49m\n\u001b[1;32m    802\u001b[0m \u001b[38;5;66;03m# Everything went great!\u001b[39;00m\n",
      "File \u001b[0;32m~/vllm_test/myllm/lib/python3.10/site-packages/urllib3/connectionpool.py:534\u001b[0m, in \u001b[0;36mHTTPConnectionPool._make_request\u001b[0;34m(self, conn, method, url, body, headers, retries, timeout, chunked, response_conn, preload_content, decode_content, enforce_content_length)\u001b[0m\n\u001b[1;32m    533\u001b[0m \u001b[38;5;28;01mtry\u001b[39;00m:\n\u001b[0;32m--> 534\u001b[0m     response \u001b[38;5;241m=\u001b[39m \u001b[43mconn\u001b[49m\u001b[38;5;241;43m.\u001b[39;49m\u001b[43mgetresponse\u001b[49m\u001b[43m(\u001b[49m\u001b[43m)\u001b[49m\n\u001b[1;32m    535\u001b[0m \u001b[38;5;28;01mexcept\u001b[39;00m (BaseSSLError, \u001b[38;5;167;01mOSError\u001b[39;00m) \u001b[38;5;28;01mas\u001b[39;00m e:\n",
      "File \u001b[0;32m~/vllm_test/myllm/lib/python3.10/site-packages/urllib3/connection.py:516\u001b[0m, in \u001b[0;36mHTTPConnection.getresponse\u001b[0;34m(self)\u001b[0m\n\u001b[1;32m    515\u001b[0m \u001b[38;5;66;03m# Get the response from http.client.HTTPConnection\u001b[39;00m\n\u001b[0;32m--> 516\u001b[0m httplib_response \u001b[38;5;241m=\u001b[39m \u001b[38;5;28;43msuper\u001b[39;49m\u001b[43m(\u001b[49m\u001b[43m)\u001b[49m\u001b[38;5;241;43m.\u001b[39;49m\u001b[43mgetresponse\u001b[49m\u001b[43m(\u001b[49m\u001b[43m)\u001b[49m\n\u001b[1;32m    518\u001b[0m \u001b[38;5;28;01mtry\u001b[39;00m:\n",
      "File \u001b[0;32m/usr/lib/python3.10/http/client.py:1375\u001b[0m, in \u001b[0;36mHTTPConnection.getresponse\u001b[0;34m(self)\u001b[0m\n\u001b[1;32m   1374\u001b[0m \u001b[38;5;28;01mtry\u001b[39;00m:\n\u001b[0;32m-> 1375\u001b[0m     \u001b[43mresponse\u001b[49m\u001b[38;5;241;43m.\u001b[39;49m\u001b[43mbegin\u001b[49m\u001b[43m(\u001b[49m\u001b[43m)\u001b[49m\n\u001b[1;32m   1376\u001b[0m \u001b[38;5;28;01mexcept\u001b[39;00m \u001b[38;5;167;01mConnectionError\u001b[39;00m:\n",
      "File \u001b[0;32m/usr/lib/python3.10/http/client.py:318\u001b[0m, in \u001b[0;36mHTTPResponse.begin\u001b[0;34m(self)\u001b[0m\n\u001b[1;32m    317\u001b[0m \u001b[38;5;28;01mwhile\u001b[39;00m \u001b[38;5;28;01mTrue\u001b[39;00m:\n\u001b[0;32m--> 318\u001b[0m     version, status, reason \u001b[38;5;241m=\u001b[39m \u001b[38;5;28;43mself\u001b[39;49m\u001b[38;5;241;43m.\u001b[39;49m\u001b[43m_read_status\u001b[49m\u001b[43m(\u001b[49m\u001b[43m)\u001b[49m\n\u001b[1;32m    319\u001b[0m     \u001b[38;5;28;01mif\u001b[39;00m status \u001b[38;5;241m!=\u001b[39m CONTINUE:\n",
      "File \u001b[0;32m/usr/lib/python3.10/http/client.py:287\u001b[0m, in \u001b[0;36mHTTPResponse._read_status\u001b[0;34m(self)\u001b[0m\n\u001b[1;32m    284\u001b[0m \u001b[38;5;28;01mif\u001b[39;00m \u001b[38;5;129;01mnot\u001b[39;00m line:\n\u001b[1;32m    285\u001b[0m     \u001b[38;5;66;03m# Presumably, the server closed the connection before\u001b[39;00m\n\u001b[1;32m    286\u001b[0m     \u001b[38;5;66;03m# sending a valid response.\u001b[39;00m\n\u001b[0;32m--> 287\u001b[0m     \u001b[38;5;28;01mraise\u001b[39;00m RemoteDisconnected(\u001b[38;5;124m\"\u001b[39m\u001b[38;5;124mRemote end closed connection without\u001b[39m\u001b[38;5;124m\"\u001b[39m\n\u001b[1;32m    288\u001b[0m                              \u001b[38;5;124m\"\u001b[39m\u001b[38;5;124m response\u001b[39m\u001b[38;5;124m\"\u001b[39m)\n\u001b[1;32m    289\u001b[0m \u001b[38;5;28;01mtry\u001b[39;00m:\n",
      "\u001b[0;31mRemoteDisconnected\u001b[0m: Remote end closed connection without response",
      "\nDuring handling of the above exception, another exception occurred:\n",
      "\u001b[0;31mProtocolError\u001b[0m                             Traceback (most recent call last)",
      "File \u001b[0;32m~/vllm_test/myllm/lib/python3.10/site-packages/requests/adapters.py:667\u001b[0m, in \u001b[0;36mHTTPAdapter.send\u001b[0;34m(self, request, stream, timeout, verify, cert, proxies)\u001b[0m\n\u001b[1;32m    666\u001b[0m \u001b[38;5;28;01mtry\u001b[39;00m:\n\u001b[0;32m--> 667\u001b[0m     resp \u001b[38;5;241m=\u001b[39m \u001b[43mconn\u001b[49m\u001b[38;5;241;43m.\u001b[39;49m\u001b[43murlopen\u001b[49m\u001b[43m(\u001b[49m\n\u001b[1;32m    668\u001b[0m \u001b[43m        \u001b[49m\u001b[43mmethod\u001b[49m\u001b[38;5;241;43m=\u001b[39;49m\u001b[43mrequest\u001b[49m\u001b[38;5;241;43m.\u001b[39;49m\u001b[43mmethod\u001b[49m\u001b[43m,\u001b[49m\n\u001b[1;32m    669\u001b[0m \u001b[43m        \u001b[49m\u001b[43murl\u001b[49m\u001b[38;5;241;43m=\u001b[39;49m\u001b[43murl\u001b[49m\u001b[43m,\u001b[49m\n\u001b[1;32m    670\u001b[0m \u001b[43m        \u001b[49m\u001b[43mbody\u001b[49m\u001b[38;5;241;43m=\u001b[39;49m\u001b[43mrequest\u001b[49m\u001b[38;5;241;43m.\u001b[39;49m\u001b[43mbody\u001b[49m\u001b[43m,\u001b[49m\n\u001b[1;32m    671\u001b[0m \u001b[43m        \u001b[49m\u001b[43mheaders\u001b[49m\u001b[38;5;241;43m=\u001b[39;49m\u001b[43mrequest\u001b[49m\u001b[38;5;241;43m.\u001b[39;49m\u001b[43mheaders\u001b[49m\u001b[43m,\u001b[49m\n\u001b[1;32m    672\u001b[0m \u001b[43m        \u001b[49m\u001b[43mredirect\u001b[49m\u001b[38;5;241;43m=\u001b[39;49m\u001b[38;5;28;43;01mFalse\u001b[39;49;00m\u001b[43m,\u001b[49m\n\u001b[1;32m    673\u001b[0m \u001b[43m        \u001b[49m\u001b[43massert_same_host\u001b[49m\u001b[38;5;241;43m=\u001b[39;49m\u001b[38;5;28;43;01mFalse\u001b[39;49;00m\u001b[43m,\u001b[49m\n\u001b[1;32m    674\u001b[0m \u001b[43m        \u001b[49m\u001b[43mpreload_content\u001b[49m\u001b[38;5;241;43m=\u001b[39;49m\u001b[38;5;28;43;01mFalse\u001b[39;49;00m\u001b[43m,\u001b[49m\n\u001b[1;32m    675\u001b[0m \u001b[43m        \u001b[49m\u001b[43mdecode_content\u001b[49m\u001b[38;5;241;43m=\u001b[39;49m\u001b[38;5;28;43;01mFalse\u001b[39;49;00m\u001b[43m,\u001b[49m\n\u001b[1;32m    676\u001b[0m \u001b[43m        \u001b[49m\u001b[43mretries\u001b[49m\u001b[38;5;241;43m=\u001b[39;49m\u001b[38;5;28;43mself\u001b[39;49m\u001b[38;5;241;43m.\u001b[39;49m\u001b[43mmax_retries\u001b[49m\u001b[43m,\u001b[49m\n\u001b[1;32m    677\u001b[0m \u001b[43m        \u001b[49m\u001b[43mtimeout\u001b[49m\u001b[38;5;241;43m=\u001b[39;49m\u001b[43mtimeout\u001b[49m\u001b[43m,\u001b[49m\n\u001b[1;32m    678\u001b[0m \u001b[43m        \u001b[49m\u001b[43mchunked\u001b[49m\u001b[38;5;241;43m=\u001b[39;49m\u001b[43mchunked\u001b[49m\u001b[43m,\u001b[49m\n\u001b[1;32m    679\u001b[0m \u001b[43m    \u001b[49m\u001b[43m)\u001b[49m\n\u001b[1;32m    681\u001b[0m \u001b[38;5;28;01mexcept\u001b[39;00m (ProtocolError, \u001b[38;5;167;01mOSError\u001b[39;00m) \u001b[38;5;28;01mas\u001b[39;00m err:\n",
      "File \u001b[0;32m~/vllm_test/myllm/lib/python3.10/site-packages/urllib3/connectionpool.py:841\u001b[0m, in \u001b[0;36mHTTPConnectionPool.urlopen\u001b[0;34m(self, method, url, body, headers, retries, redirect, assert_same_host, timeout, pool_timeout, release_conn, chunked, body_pos, preload_content, decode_content, **response_kw)\u001b[0m\n\u001b[1;32m    839\u001b[0m     new_e \u001b[38;5;241m=\u001b[39m ProtocolError(\u001b[38;5;124m\"\u001b[39m\u001b[38;5;124mConnection aborted.\u001b[39m\u001b[38;5;124m\"\u001b[39m, new_e)\n\u001b[0;32m--> 841\u001b[0m retries \u001b[38;5;241m=\u001b[39m \u001b[43mretries\u001b[49m\u001b[38;5;241;43m.\u001b[39;49m\u001b[43mincrement\u001b[49m\u001b[43m(\u001b[49m\n\u001b[1;32m    842\u001b[0m \u001b[43m    \u001b[49m\u001b[43mmethod\u001b[49m\u001b[43m,\u001b[49m\u001b[43m \u001b[49m\u001b[43murl\u001b[49m\u001b[43m,\u001b[49m\u001b[43m \u001b[49m\u001b[43merror\u001b[49m\u001b[38;5;241;43m=\u001b[39;49m\u001b[43mnew_e\u001b[49m\u001b[43m,\u001b[49m\u001b[43m \u001b[49m\u001b[43m_pool\u001b[49m\u001b[38;5;241;43m=\u001b[39;49m\u001b[38;5;28;43mself\u001b[39;49m\u001b[43m,\u001b[49m\u001b[43m \u001b[49m\u001b[43m_stacktrace\u001b[49m\u001b[38;5;241;43m=\u001b[39;49m\u001b[43msys\u001b[49m\u001b[38;5;241;43m.\u001b[39;49m\u001b[43mexc_info\u001b[49m\u001b[43m(\u001b[49m\u001b[43m)\u001b[49m\u001b[43m[\u001b[49m\u001b[38;5;241;43m2\u001b[39;49m\u001b[43m]\u001b[49m\n\u001b[1;32m    843\u001b[0m \u001b[43m\u001b[49m\u001b[43m)\u001b[49m\n\u001b[1;32m    844\u001b[0m retries\u001b[38;5;241m.\u001b[39msleep()\n",
      "File \u001b[0;32m~/vllm_test/myllm/lib/python3.10/site-packages/urllib3/util/retry.py:474\u001b[0m, in \u001b[0;36mRetry.increment\u001b[0;34m(self, method, url, response, error, _pool, _stacktrace)\u001b[0m\n\u001b[1;32m    473\u001b[0m \u001b[38;5;28;01mif\u001b[39;00m read \u001b[38;5;129;01mis\u001b[39;00m \u001b[38;5;28;01mFalse\u001b[39;00m \u001b[38;5;129;01mor\u001b[39;00m method \u001b[38;5;129;01mis\u001b[39;00m \u001b[38;5;28;01mNone\u001b[39;00m \u001b[38;5;129;01mor\u001b[39;00m \u001b[38;5;129;01mnot\u001b[39;00m \u001b[38;5;28mself\u001b[39m\u001b[38;5;241m.\u001b[39m_is_method_retryable(method):\n\u001b[0;32m--> 474\u001b[0m     \u001b[38;5;28;01mraise\u001b[39;00m \u001b[43mreraise\u001b[49m\u001b[43m(\u001b[49m\u001b[38;5;28;43mtype\u001b[39;49m\u001b[43m(\u001b[49m\u001b[43merror\u001b[49m\u001b[43m)\u001b[49m\u001b[43m,\u001b[49m\u001b[43m \u001b[49m\u001b[43merror\u001b[49m\u001b[43m,\u001b[49m\u001b[43m \u001b[49m\u001b[43m_stacktrace\u001b[49m\u001b[43m)\u001b[49m\n\u001b[1;32m    475\u001b[0m \u001b[38;5;28;01melif\u001b[39;00m read \u001b[38;5;129;01mis\u001b[39;00m \u001b[38;5;129;01mnot\u001b[39;00m \u001b[38;5;28;01mNone\u001b[39;00m:\n",
      "File \u001b[0;32m~/vllm_test/myllm/lib/python3.10/site-packages/urllib3/util/util.py:38\u001b[0m, in \u001b[0;36mreraise\u001b[0;34m(tp, value, tb)\u001b[0m\n\u001b[1;32m     37\u001b[0m \u001b[38;5;28;01mif\u001b[39;00m value\u001b[38;5;241m.\u001b[39m__traceback__ \u001b[38;5;129;01mis\u001b[39;00m \u001b[38;5;129;01mnot\u001b[39;00m tb:\n\u001b[0;32m---> 38\u001b[0m     \u001b[38;5;28;01mraise\u001b[39;00m value\u001b[38;5;241m.\u001b[39mwith_traceback(tb)\n\u001b[1;32m     39\u001b[0m \u001b[38;5;28;01mraise\u001b[39;00m value\n",
      "File \u001b[0;32m~/vllm_test/myllm/lib/python3.10/site-packages/urllib3/connectionpool.py:787\u001b[0m, in \u001b[0;36mHTTPConnectionPool.urlopen\u001b[0;34m(self, method, url, body, headers, retries, redirect, assert_same_host, timeout, pool_timeout, release_conn, chunked, body_pos, preload_content, decode_content, **response_kw)\u001b[0m\n\u001b[1;32m    786\u001b[0m \u001b[38;5;66;03m# Make the request on the HTTPConnection object\u001b[39;00m\n\u001b[0;32m--> 787\u001b[0m response \u001b[38;5;241m=\u001b[39m \u001b[38;5;28;43mself\u001b[39;49m\u001b[38;5;241;43m.\u001b[39;49m\u001b[43m_make_request\u001b[49m\u001b[43m(\u001b[49m\n\u001b[1;32m    788\u001b[0m \u001b[43m    \u001b[49m\u001b[43mconn\u001b[49m\u001b[43m,\u001b[49m\n\u001b[1;32m    789\u001b[0m \u001b[43m    \u001b[49m\u001b[43mmethod\u001b[49m\u001b[43m,\u001b[49m\n\u001b[1;32m    790\u001b[0m \u001b[43m    \u001b[49m\u001b[43murl\u001b[49m\u001b[43m,\u001b[49m\n\u001b[1;32m    791\u001b[0m \u001b[43m    \u001b[49m\u001b[43mtimeout\u001b[49m\u001b[38;5;241;43m=\u001b[39;49m\u001b[43mtimeout_obj\u001b[49m\u001b[43m,\u001b[49m\n\u001b[1;32m    792\u001b[0m \u001b[43m    \u001b[49m\u001b[43mbody\u001b[49m\u001b[38;5;241;43m=\u001b[39;49m\u001b[43mbody\u001b[49m\u001b[43m,\u001b[49m\n\u001b[1;32m    793\u001b[0m \u001b[43m    \u001b[49m\u001b[43mheaders\u001b[49m\u001b[38;5;241;43m=\u001b[39;49m\u001b[43mheaders\u001b[49m\u001b[43m,\u001b[49m\n\u001b[1;32m    794\u001b[0m \u001b[43m    \u001b[49m\u001b[43mchunked\u001b[49m\u001b[38;5;241;43m=\u001b[39;49m\u001b[43mchunked\u001b[49m\u001b[43m,\u001b[49m\n\u001b[1;32m    795\u001b[0m \u001b[43m    \u001b[49m\u001b[43mretries\u001b[49m\u001b[38;5;241;43m=\u001b[39;49m\u001b[43mretries\u001b[49m\u001b[43m,\u001b[49m\n\u001b[1;32m    796\u001b[0m \u001b[43m    \u001b[49m\u001b[43mresponse_conn\u001b[49m\u001b[38;5;241;43m=\u001b[39;49m\u001b[43mresponse_conn\u001b[49m\u001b[43m,\u001b[49m\n\u001b[1;32m    797\u001b[0m \u001b[43m    \u001b[49m\u001b[43mpreload_content\u001b[49m\u001b[38;5;241;43m=\u001b[39;49m\u001b[43mpreload_content\u001b[49m\u001b[43m,\u001b[49m\n\u001b[1;32m    798\u001b[0m \u001b[43m    \u001b[49m\u001b[43mdecode_content\u001b[49m\u001b[38;5;241;43m=\u001b[39;49m\u001b[43mdecode_content\u001b[49m\u001b[43m,\u001b[49m\n\u001b[1;32m    799\u001b[0m \u001b[43m    \u001b[49m\u001b[38;5;241;43m*\u001b[39;49m\u001b[38;5;241;43m*\u001b[39;49m\u001b[43mresponse_kw\u001b[49m\u001b[43m,\u001b[49m\n\u001b[1;32m    800\u001b[0m \u001b[43m\u001b[49m\u001b[43m)\u001b[49m\n\u001b[1;32m    802\u001b[0m \u001b[38;5;66;03m# Everything went great!\u001b[39;00m\n",
      "File \u001b[0;32m~/vllm_test/myllm/lib/python3.10/site-packages/urllib3/connectionpool.py:534\u001b[0m, in \u001b[0;36mHTTPConnectionPool._make_request\u001b[0;34m(self, conn, method, url, body, headers, retries, timeout, chunked, response_conn, preload_content, decode_content, enforce_content_length)\u001b[0m\n\u001b[1;32m    533\u001b[0m \u001b[38;5;28;01mtry\u001b[39;00m:\n\u001b[0;32m--> 534\u001b[0m     response \u001b[38;5;241m=\u001b[39m \u001b[43mconn\u001b[49m\u001b[38;5;241;43m.\u001b[39;49m\u001b[43mgetresponse\u001b[49m\u001b[43m(\u001b[49m\u001b[43m)\u001b[49m\n\u001b[1;32m    535\u001b[0m \u001b[38;5;28;01mexcept\u001b[39;00m (BaseSSLError, \u001b[38;5;167;01mOSError\u001b[39;00m) \u001b[38;5;28;01mas\u001b[39;00m e:\n",
      "File \u001b[0;32m~/vllm_test/myllm/lib/python3.10/site-packages/urllib3/connection.py:516\u001b[0m, in \u001b[0;36mHTTPConnection.getresponse\u001b[0;34m(self)\u001b[0m\n\u001b[1;32m    515\u001b[0m \u001b[38;5;66;03m# Get the response from http.client.HTTPConnection\u001b[39;00m\n\u001b[0;32m--> 516\u001b[0m httplib_response \u001b[38;5;241m=\u001b[39m \u001b[38;5;28;43msuper\u001b[39;49m\u001b[43m(\u001b[49m\u001b[43m)\u001b[49m\u001b[38;5;241;43m.\u001b[39;49m\u001b[43mgetresponse\u001b[49m\u001b[43m(\u001b[49m\u001b[43m)\u001b[49m\n\u001b[1;32m    518\u001b[0m \u001b[38;5;28;01mtry\u001b[39;00m:\n",
      "File \u001b[0;32m/usr/lib/python3.10/http/client.py:1375\u001b[0m, in \u001b[0;36mHTTPConnection.getresponse\u001b[0;34m(self)\u001b[0m\n\u001b[1;32m   1374\u001b[0m \u001b[38;5;28;01mtry\u001b[39;00m:\n\u001b[0;32m-> 1375\u001b[0m     \u001b[43mresponse\u001b[49m\u001b[38;5;241;43m.\u001b[39;49m\u001b[43mbegin\u001b[49m\u001b[43m(\u001b[49m\u001b[43m)\u001b[49m\n\u001b[1;32m   1376\u001b[0m \u001b[38;5;28;01mexcept\u001b[39;00m \u001b[38;5;167;01mConnectionError\u001b[39;00m:\n",
      "File \u001b[0;32m/usr/lib/python3.10/http/client.py:318\u001b[0m, in \u001b[0;36mHTTPResponse.begin\u001b[0;34m(self)\u001b[0m\n\u001b[1;32m    317\u001b[0m \u001b[38;5;28;01mwhile\u001b[39;00m \u001b[38;5;28;01mTrue\u001b[39;00m:\n\u001b[0;32m--> 318\u001b[0m     version, status, reason \u001b[38;5;241m=\u001b[39m \u001b[38;5;28;43mself\u001b[39;49m\u001b[38;5;241;43m.\u001b[39;49m\u001b[43m_read_status\u001b[49m\u001b[43m(\u001b[49m\u001b[43m)\u001b[49m\n\u001b[1;32m    319\u001b[0m     \u001b[38;5;28;01mif\u001b[39;00m status \u001b[38;5;241m!=\u001b[39m CONTINUE:\n",
      "File \u001b[0;32m/usr/lib/python3.10/http/client.py:287\u001b[0m, in \u001b[0;36mHTTPResponse._read_status\u001b[0;34m(self)\u001b[0m\n\u001b[1;32m    284\u001b[0m \u001b[38;5;28;01mif\u001b[39;00m \u001b[38;5;129;01mnot\u001b[39;00m line:\n\u001b[1;32m    285\u001b[0m     \u001b[38;5;66;03m# Presumably, the server closed the connection before\u001b[39;00m\n\u001b[1;32m    286\u001b[0m     \u001b[38;5;66;03m# sending a valid response.\u001b[39;00m\n\u001b[0;32m--> 287\u001b[0m     \u001b[38;5;28;01mraise\u001b[39;00m RemoteDisconnected(\u001b[38;5;124m\"\u001b[39m\u001b[38;5;124mRemote end closed connection without\u001b[39m\u001b[38;5;124m\"\u001b[39m\n\u001b[1;32m    288\u001b[0m                              \u001b[38;5;124m\"\u001b[39m\u001b[38;5;124m response\u001b[39m\u001b[38;5;124m\"\u001b[39m)\n\u001b[1;32m    289\u001b[0m \u001b[38;5;28;01mtry\u001b[39;00m:\n",
      "\u001b[0;31mProtocolError\u001b[0m: ('Connection aborted.', RemoteDisconnected('Remote end closed connection without response'))",
      "\nDuring handling of the above exception, another exception occurred:\n",
      "\u001b[0;31mConnectionError\u001b[0m                           Traceback (most recent call last)",
      "Cell \u001b[0;32mIn[5], line 6\u001b[0m\n\u001b[1;32m      3\u001b[0m url1 \u001b[38;5;241m=\u001b[39m \u001b[38;5;124m\"\u001b[39m\u001b[38;5;124mhttp://localhost:5000/forward\u001b[39m\u001b[38;5;124m\"\u001b[39m\n\u001b[1;32m      4\u001b[0m \u001b[38;5;66;03m# url2 = \"http://localhost:5001/forward\"\u001b[39;00m\n\u001b[0;32m----> 6\u001b[0m response1 \u001b[38;5;241m=\u001b[39m \u001b[43mrequests\u001b[49m\u001b[38;5;241;43m.\u001b[39;49m\u001b[43mpost\u001b[49m\u001b[43m(\u001b[49m\u001b[43murl1\u001b[49m\u001b[43m,\u001b[49m\u001b[43m \u001b[49m\n\u001b[1;32m      7\u001b[0m \u001b[43m                          \u001b[49m\u001b[43mdata\u001b[49m\u001b[38;5;241;43m=\u001b[39;49m\u001b[43m{\u001b[49m\n\u001b[1;32m      8\u001b[0m \u001b[43m        \u001b[49m\u001b[38;5;124;43m'\u001b[39;49m\u001b[38;5;124;43mhidden_states_meta\u001b[39;49m\u001b[38;5;124;43m'\u001b[39;49m\u001b[43m:\u001b[49m\u001b[43m \u001b[49m\u001b[43mjson\u001b[49m\u001b[38;5;241;43m.\u001b[39;49m\u001b[43mdumps\u001b[49m\u001b[43m(\u001b[49m\u001b[43mhidden_states_meta\u001b[49m\u001b[43m)\u001b[49m\u001b[43m,\u001b[49m\n\u001b[1;32m      9\u001b[0m \u001b[43m        \u001b[49m\u001b[38;5;124;43m'\u001b[39;49m\u001b[38;5;124;43mtopk_weights_meta\u001b[39;49m\u001b[38;5;124;43m'\u001b[39;49m\u001b[43m:\u001b[49m\u001b[43m \u001b[49m\u001b[43mjson\u001b[49m\u001b[38;5;241;43m.\u001b[39;49m\u001b[43mdumps\u001b[49m\u001b[43m(\u001b[49m\u001b[43mtopk_weights_meta\u001b[49m\u001b[43m)\u001b[49m\u001b[43m,\u001b[49m\n\u001b[1;32m     10\u001b[0m \u001b[43m        \u001b[49m\u001b[38;5;124;43m'\u001b[39;49m\u001b[38;5;124;43mtopk_ids_meta\u001b[39;49m\u001b[38;5;124;43m'\u001b[39;49m\u001b[43m:\u001b[49m\u001b[43m \u001b[49m\u001b[43mjson\u001b[49m\u001b[38;5;241;43m.\u001b[39;49m\u001b[43mdumps\u001b[49m\u001b[43m(\u001b[49m\u001b[43mtopk_ids_meta\u001b[49m\u001b[43m)\u001b[49m\u001b[43m,\u001b[49m\n\u001b[1;32m     11\u001b[0m \u001b[43m}\u001b[49m\u001b[43m,\u001b[49m\n\u001b[1;32m     12\u001b[0m \u001b[43m                          \u001b[49m\n\u001b[1;32m     13\u001b[0m \u001b[43mfiles\u001b[49m\u001b[38;5;241;43m=\u001b[39;49m\u001b[43m{\u001b[49m\n\u001b[1;32m     14\u001b[0m \u001b[43m        \u001b[49m\u001b[38;5;124;43m'\u001b[39;49m\u001b[38;5;124;43mtopk_ids_handler\u001b[39;49m\u001b[38;5;124;43m'\u001b[39;49m\u001b[43m:\u001b[49m\u001b[43m \u001b[49m\u001b[43m(\u001b[49m\u001b[38;5;124;43m'\u001b[39;49m\u001b[38;5;124;43mtopk_ids_handler.bin\u001b[39;49m\u001b[38;5;124;43m'\u001b[39;49m\u001b[43m,\u001b[49m\u001b[43m \u001b[49m\u001b[43mtopk_ids_handler\u001b[49m\u001b[43m,\u001b[49m\u001b[43m \u001b[49m\u001b[38;5;124;43m'\u001b[39;49m\u001b[38;5;124;43mapplication/octet-stream\u001b[39;49m\u001b[38;5;124;43m'\u001b[39;49m\u001b[43m)\u001b[49m\u001b[43m,\u001b[49m\n\u001b[1;32m     15\u001b[0m \u001b[43m        \u001b[49m\u001b[38;5;124;43m'\u001b[39;49m\u001b[38;5;124;43mhidden_states_handler\u001b[39;49m\u001b[38;5;124;43m'\u001b[39;49m\u001b[43m:\u001b[49m\u001b[43m \u001b[49m\u001b[43m(\u001b[49m\u001b[38;5;124;43m'\u001b[39;49m\u001b[38;5;124;43mhidden_states_handler.bin\u001b[39;49m\u001b[38;5;124;43m'\u001b[39;49m\u001b[43m,\u001b[49m\u001b[43m \u001b[49m\u001b[43mhidden_states_handler\u001b[49m\u001b[43m,\u001b[49m\u001b[43m \u001b[49m\u001b[38;5;124;43m'\u001b[39;49m\u001b[38;5;124;43mapplication/octet-stream\u001b[39;49m\u001b[38;5;124;43m'\u001b[39;49m\u001b[43m)\u001b[49m\u001b[43m,\u001b[49m\n\u001b[1;32m     16\u001b[0m \u001b[43m        \u001b[49m\u001b[38;5;124;43m'\u001b[39;49m\u001b[38;5;124;43mtopk_weights_handler\u001b[39;49m\u001b[38;5;124;43m'\u001b[39;49m\u001b[43m:\u001b[49m\u001b[43m \u001b[49m\u001b[43m(\u001b[49m\u001b[38;5;124;43m'\u001b[39;49m\u001b[38;5;124;43mtopk_weights_handler.bin\u001b[39;49m\u001b[38;5;124;43m'\u001b[39;49m\u001b[43m,\u001b[49m\u001b[43m \u001b[49m\u001b[43mtopk_weights_handler\u001b[49m\u001b[43m,\u001b[49m\u001b[43m \u001b[49m\u001b[38;5;124;43m'\u001b[39;49m\u001b[38;5;124;43mapplication/octet-stream\u001b[39;49m\u001b[38;5;124;43m'\u001b[39;49m\u001b[43m)\u001b[49m\u001b[43m,\u001b[49m\n\u001b[1;32m     17\u001b[0m \u001b[43m}\u001b[49m\u001b[43m)\u001b[49m\n\u001b[1;32m     19\u001b[0m \u001b[38;5;66;03m# response2 = requests.post(url2, json={\u001b[39;00m\n\u001b[1;32m     20\u001b[0m \u001b[38;5;66;03m#         \"hidden_states\":rank1[\"hidden_states\"].cpu().tolist(),\u001b[39;00m\n\u001b[1;32m     21\u001b[0m \u001b[38;5;66;03m#         \"topk_weights\": rank1[\"topk_weights\"].cpu().tolist(),\u001b[39;00m\n\u001b[0;32m   (...)\u001b[0m\n\u001b[1;32m     24\u001b[0m \n\u001b[1;32m     25\u001b[0m \u001b[38;5;66;03m# output1 = torch.tensor(response1.json()[\"hidden_output\"],dtype=torch.bfloat16,device=\"cuda:0\")\u001b[39;00m\n",
      "File \u001b[0;32m~/vllm_test/myllm/lib/python3.10/site-packages/requests/api.py:115\u001b[0m, in \u001b[0;36mpost\u001b[0;34m(url, data, json, **kwargs)\u001b[0m\n\u001b[1;32m    103\u001b[0m \u001b[38;5;28;01mdef\u001b[39;00m\u001b[38;5;250m \u001b[39m\u001b[38;5;21mpost\u001b[39m(url, data\u001b[38;5;241m=\u001b[39m\u001b[38;5;28;01mNone\u001b[39;00m, json\u001b[38;5;241m=\u001b[39m\u001b[38;5;28;01mNone\u001b[39;00m, \u001b[38;5;241m*\u001b[39m\u001b[38;5;241m*\u001b[39mkwargs):\n\u001b[1;32m    104\u001b[0m \u001b[38;5;250m    \u001b[39m\u001b[38;5;124mr\u001b[39m\u001b[38;5;124;03m\"\"\"Sends a POST request.\u001b[39;00m\n\u001b[1;32m    105\u001b[0m \n\u001b[1;32m    106\u001b[0m \u001b[38;5;124;03m    :param url: URL for the new :class:`Request` object.\u001b[39;00m\n\u001b[0;32m   (...)\u001b[0m\n\u001b[1;32m    112\u001b[0m \u001b[38;5;124;03m    :rtype: requests.Response\u001b[39;00m\n\u001b[1;32m    113\u001b[0m \u001b[38;5;124;03m    \"\"\"\u001b[39;00m\n\u001b[0;32m--> 115\u001b[0m     \u001b[38;5;28;01mreturn\u001b[39;00m \u001b[43mrequest\u001b[49m\u001b[43m(\u001b[49m\u001b[38;5;124;43m\"\u001b[39;49m\u001b[38;5;124;43mpost\u001b[39;49m\u001b[38;5;124;43m\"\u001b[39;49m\u001b[43m,\u001b[49m\u001b[43m \u001b[49m\u001b[43murl\u001b[49m\u001b[43m,\u001b[49m\u001b[43m \u001b[49m\u001b[43mdata\u001b[49m\u001b[38;5;241;43m=\u001b[39;49m\u001b[43mdata\u001b[49m\u001b[43m,\u001b[49m\u001b[43m \u001b[49m\u001b[43mjson\u001b[49m\u001b[38;5;241;43m=\u001b[39;49m\u001b[43mjson\u001b[49m\u001b[43m,\u001b[49m\u001b[43m \u001b[49m\u001b[38;5;241;43m*\u001b[39;49m\u001b[38;5;241;43m*\u001b[39;49m\u001b[43mkwargs\u001b[49m\u001b[43m)\u001b[49m\n",
      "File \u001b[0;32m~/vllm_test/myllm/lib/python3.10/site-packages/requests/api.py:59\u001b[0m, in \u001b[0;36mrequest\u001b[0;34m(method, url, **kwargs)\u001b[0m\n\u001b[1;32m     55\u001b[0m \u001b[38;5;66;03m# By using the 'with' statement we are sure the session is closed, thus we\u001b[39;00m\n\u001b[1;32m     56\u001b[0m \u001b[38;5;66;03m# avoid leaving sockets open which can trigger a ResourceWarning in some\u001b[39;00m\n\u001b[1;32m     57\u001b[0m \u001b[38;5;66;03m# cases, and look like a memory leak in others.\u001b[39;00m\n\u001b[1;32m     58\u001b[0m \u001b[38;5;28;01mwith\u001b[39;00m sessions\u001b[38;5;241m.\u001b[39mSession() \u001b[38;5;28;01mas\u001b[39;00m session:\n\u001b[0;32m---> 59\u001b[0m     \u001b[38;5;28;01mreturn\u001b[39;00m \u001b[43msession\u001b[49m\u001b[38;5;241;43m.\u001b[39;49m\u001b[43mrequest\u001b[49m\u001b[43m(\u001b[49m\u001b[43mmethod\u001b[49m\u001b[38;5;241;43m=\u001b[39;49m\u001b[43mmethod\u001b[49m\u001b[43m,\u001b[49m\u001b[43m \u001b[49m\u001b[43murl\u001b[49m\u001b[38;5;241;43m=\u001b[39;49m\u001b[43murl\u001b[49m\u001b[43m,\u001b[49m\u001b[43m \u001b[49m\u001b[38;5;241;43m*\u001b[39;49m\u001b[38;5;241;43m*\u001b[39;49m\u001b[43mkwargs\u001b[49m\u001b[43m)\u001b[49m\n",
      "File \u001b[0;32m~/vllm_test/myllm/lib/python3.10/site-packages/requests/sessions.py:589\u001b[0m, in \u001b[0;36mSession.request\u001b[0;34m(self, method, url, params, data, headers, cookies, files, auth, timeout, allow_redirects, proxies, hooks, stream, verify, cert, json)\u001b[0m\n\u001b[1;32m    584\u001b[0m send_kwargs \u001b[38;5;241m=\u001b[39m {\n\u001b[1;32m    585\u001b[0m     \u001b[38;5;124m\"\u001b[39m\u001b[38;5;124mtimeout\u001b[39m\u001b[38;5;124m\"\u001b[39m: timeout,\n\u001b[1;32m    586\u001b[0m     \u001b[38;5;124m\"\u001b[39m\u001b[38;5;124mallow_redirects\u001b[39m\u001b[38;5;124m\"\u001b[39m: allow_redirects,\n\u001b[1;32m    587\u001b[0m }\n\u001b[1;32m    588\u001b[0m send_kwargs\u001b[38;5;241m.\u001b[39mupdate(settings)\n\u001b[0;32m--> 589\u001b[0m resp \u001b[38;5;241m=\u001b[39m \u001b[38;5;28;43mself\u001b[39;49m\u001b[38;5;241;43m.\u001b[39;49m\u001b[43msend\u001b[49m\u001b[43m(\u001b[49m\u001b[43mprep\u001b[49m\u001b[43m,\u001b[49m\u001b[43m \u001b[49m\u001b[38;5;241;43m*\u001b[39;49m\u001b[38;5;241;43m*\u001b[39;49m\u001b[43msend_kwargs\u001b[49m\u001b[43m)\u001b[49m\n\u001b[1;32m    591\u001b[0m \u001b[38;5;28;01mreturn\u001b[39;00m resp\n",
      "File \u001b[0;32m~/vllm_test/myllm/lib/python3.10/site-packages/requests/sessions.py:703\u001b[0m, in \u001b[0;36mSession.send\u001b[0;34m(self, request, **kwargs)\u001b[0m\n\u001b[1;32m    700\u001b[0m start \u001b[38;5;241m=\u001b[39m preferred_clock()\n\u001b[1;32m    702\u001b[0m \u001b[38;5;66;03m# Send the request\u001b[39;00m\n\u001b[0;32m--> 703\u001b[0m r \u001b[38;5;241m=\u001b[39m \u001b[43madapter\u001b[49m\u001b[38;5;241;43m.\u001b[39;49m\u001b[43msend\u001b[49m\u001b[43m(\u001b[49m\u001b[43mrequest\u001b[49m\u001b[43m,\u001b[49m\u001b[43m \u001b[49m\u001b[38;5;241;43m*\u001b[39;49m\u001b[38;5;241;43m*\u001b[39;49m\u001b[43mkwargs\u001b[49m\u001b[43m)\u001b[49m\n\u001b[1;32m    705\u001b[0m \u001b[38;5;66;03m# Total elapsed time of the request (approximately)\u001b[39;00m\n\u001b[1;32m    706\u001b[0m elapsed \u001b[38;5;241m=\u001b[39m preferred_clock() \u001b[38;5;241m-\u001b[39m start\n",
      "File \u001b[0;32m~/vllm_test/myllm/lib/python3.10/site-packages/requests/adapters.py:682\u001b[0m, in \u001b[0;36mHTTPAdapter.send\u001b[0;34m(self, request, stream, timeout, verify, cert, proxies)\u001b[0m\n\u001b[1;32m    667\u001b[0m     resp \u001b[38;5;241m=\u001b[39m conn\u001b[38;5;241m.\u001b[39murlopen(\n\u001b[1;32m    668\u001b[0m         method\u001b[38;5;241m=\u001b[39mrequest\u001b[38;5;241m.\u001b[39mmethod,\n\u001b[1;32m    669\u001b[0m         url\u001b[38;5;241m=\u001b[39murl,\n\u001b[0;32m   (...)\u001b[0m\n\u001b[1;32m    678\u001b[0m         chunked\u001b[38;5;241m=\u001b[39mchunked,\n\u001b[1;32m    679\u001b[0m     )\n\u001b[1;32m    681\u001b[0m \u001b[38;5;28;01mexcept\u001b[39;00m (ProtocolError, \u001b[38;5;167;01mOSError\u001b[39;00m) \u001b[38;5;28;01mas\u001b[39;00m err:\n\u001b[0;32m--> 682\u001b[0m     \u001b[38;5;28;01mraise\u001b[39;00m \u001b[38;5;167;01mConnectionError\u001b[39;00m(err, request\u001b[38;5;241m=\u001b[39mrequest)\n\u001b[1;32m    684\u001b[0m \u001b[38;5;28;01mexcept\u001b[39;00m MaxRetryError \u001b[38;5;28;01mas\u001b[39;00m e:\n\u001b[1;32m    685\u001b[0m     \u001b[38;5;28;01mif\u001b[39;00m \u001b[38;5;28misinstance\u001b[39m(e\u001b[38;5;241m.\u001b[39mreason, ConnectTimeoutError):\n\u001b[1;32m    686\u001b[0m         \u001b[38;5;66;03m# TODO: Remove this in 3.0.0: see #2811\u001b[39;00m\n",
      "\u001b[0;31mConnectionError\u001b[0m: ('Connection aborted.', RemoteDisconnected('Remote end closed connection without response'))"
     ]
    }
   ],
   "source": [
    "import json\n",
    "import requests\n",
    "url1 = \"http://localhost:5000/forward\"\n",
    "# url2 = \"http://localhost:5001/forward\"\n",
    "\n",
    "response1 = requests.post(url1, \n",
    "                          data={\n",
    "        'hidden_states_meta': json.dumps(hidden_states_meta),\n",
    "        'topk_weights_meta': json.dumps(topk_weights_meta),\n",
    "        'topk_ids_meta': json.dumps(topk_ids_meta),\n",
    "},\n",
    "                          \n",
    "files={\n",
    "        'topk_ids_handler': ('topk_ids_handler.bin', topk_ids_handler, 'application/octet-stream'),\n",
    "        'hidden_states_handler': ('hidden_states_handler.bin', hidden_states_handler, 'application/octet-stream'),\n",
    "        'topk_weights_handler': ('topk_weights_handler.bin', topk_weights_handler, 'application/octet-stream'),\n",
    "})\n",
    "\n",
    "# response2 = requests.post(url2, json={\n",
    "#         \"hidden_states\":rank1[\"hidden_states\"].cpu().tolist(),\n",
    "#         \"topk_weights\": rank1[\"topk_weights\"].cpu().tolist(),\n",
    "#         \"topk_ids\": rank1[\"topk_ids\"].cpu().tolist()\n",
    "#         })\n",
    "\n",
    "# output1 = torch.tensor(response1.json()[\"hidden_output\"],dtype=torch.bfloat16,device=\"cuda:0\")\n"
   ]
  },
  {
   "cell_type": "code",
   "execution_count": 6,
   "id": "1203b270",
   "metadata": {},
   "outputs": [
    {
     "name": "stdout",
     "output_type": "stream",
     "text": [
      "True\n",
      "True\n"
     ]
    }
   ],
   "source": [
    "print( torch.equal(output1 , rank0[\"out_hidden_states\"]) )\n",
    "print( torch.equal(output2 , rank1[\"out_hidden_states\"].cuda()) )"
   ]
  },
  {
   "cell_type": "code",
   "execution_count": 7,
   "id": "fa310b7d",
   "metadata": {},
   "outputs": [
    {
     "name": "stdout",
     "output_type": "stream",
     "text": [
      "True\n",
      "True\n"
     ]
    }
   ],
   "source": [
    "rank0[\"shared_output\"] = torch.load(\"/home/ubuntu/vllm_test_field/saved_tensors/rank_0/shared_output.pt\")\n",
    "rank1[\"shared_output\"] = torch.load(\"/home/ubuntu/vllm_test_field/saved_tensors/rank_1/shared_output.pt\")\n",
    "rank0_final_hidden_states = output1 + rank0[\"shared_output\"]\n",
    "rank1_final_hidden_states = output2 + rank1[\"shared_output\"].cuda()\n",
    "# all reduce \n",
    "reduced_result = rank0_final_hidden_states + rank1_final_hidden_states.to(rank0_final_hidden_states.device)\n",
    "print( torch.equal(reduced_result, \n",
    "                   rank0[\"final_hidden_states\"]) )\n",
    "\n",
    "print( torch.equal(reduced_result, \n",
    "                   rank1[\"final_hidden_states\"].cuda()) )"
   ]
  },
  {
   "cell_type": "markdown",
   "id": "af89fb7f",
   "metadata": {},
   "source": [
    "## Turn off the instances"
   ]
  },
  {
   "cell_type": "code",
   "execution_count": 8,
   "id": "342bab20",
   "metadata": {},
   "outputs": [
    {
     "name": "stdout",
     "output_type": "stream",
     "text": [
      "76350462c9e7\n",
      "09770c2cbc63\n",
      "已停止 2 个容器: ['76350462c9e7', '09770c2cbc63']\n"
     ]
    }
   ],
   "source": [
    "def stop_fused_moe_containers():\n",
    "    try:\n",
    "        # 1. 获取所有名称包含 'fused_moe_layer' 的容器ID\n",
    "        grep_cmd = \"docker ps --filter 'name=fused_moe_layer' -q\"\n",
    "        container_ids = subprocess.check_output(grep_cmd, shell=True, text=True).strip().split('\\n')\n",
    "        \n",
    "        # 2. 批量停止容器\n",
    "        if container_ids and container_ids[0]:  # 如果有匹配的容器\n",
    "            stop_cmd = f\"docker stop {' '.join(container_ids)}\"\n",
    "            subprocess.run(stop_cmd, shell=True, check=True)\n",
    "            print(f\"已停止 {len(container_ids)} 个容器: {container_ids}\")\n",
    "        else:\n",
    "            print(\"没有找到名称包含 'fused_moe_layer' 的容器\")\n",
    "            \n",
    "    except subprocess.CalledProcessError as e:\n",
    "        print(f\"操作失败: {e}\")\n",
    "\n",
    "# 执行函数\n",
    "stop_fused_moe_containers()"
   ]
  }
 ],
 "metadata": {
  "kernelspec": {
   "display_name": "myllm",
   "language": "python",
   "name": "python3"
  },
  "language_info": {
   "codemirror_mode": {
    "name": "ipython",
    "version": 3
   },
   "file_extension": ".py",
   "mimetype": "text/x-python",
   "name": "python",
   "nbconvert_exporter": "python",
   "pygments_lexer": "ipython3",
   "version": "3.10.12"
  }
 },
 "nbformat": 4,
 "nbformat_minor": 5
}
