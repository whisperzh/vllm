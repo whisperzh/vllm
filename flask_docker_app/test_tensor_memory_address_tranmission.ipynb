{
 "cells": [
  {
   "cell_type": "markdown",
   "id": "d02fb600",
   "metadata": {},
   "source": [
    "## Test if my GPU supports P2P"
   ]
  },
  {
   "cell_type": "code",
   "execution_count": 1,
   "id": "2f41de2b",
   "metadata": {},
   "outputs": [
    {
     "name": "stdout",
     "output_type": "stream",
     "text": [
      "Found 2 GPU(s)\n",
      "GPU 0 can access GPU 1 via P2P: ❌ No\n",
      "GPU 1 can access GPU 0 via P2P: ❌ No\n"
     ]
    }
   ],
   "source": [
    "import torch\n",
    "\n",
    "def check_p2p_support():\n",
    "    if not torch.cuda.is_available():\n",
    "        print(\"CUDA is not available. No GPUs detected.\")\n",
    "        return\n",
    "\n",
    "    num_gpus = torch.cuda.device_count()\n",
    "    print(f\"Found {num_gpus} GPU(s)\")\n",
    "\n",
    "    for i in range(num_gpus):\n",
    "        for j in range(num_gpus):\n",
    "            if i == j:\n",
    "                continue  # Skip self-check\n",
    "\n",
    "            # Check if P2P access is possible\n",
    "            try:\n",
    "                # Enable P2P access (temporarily)\n",
    "                torch.cuda.set_device(i)  # Set current GPU\n",
    "                can_access = torch.cuda.can_device_access_peer(i,j)\n",
    "                print(f\"GPU {i} can access GPU {j} via P2P: {'✅ Yes' if can_access else '❌ No'}\")\n",
    "            except RuntimeError as e:\n",
    "                print(f\"P2P between GPU {i} and GPU {j} not supported: {e}\")\n",
    "\n",
    "check_p2p_support()"
   ]
  },
  {
   "cell_type": "code",
   "execution_count": 2,
   "id": "17fe60dc",
   "metadata": {},
   "outputs": [],
   "source": [
    "import torch\n",
    "import ctypes\n",
    "\n",
    "# Load the shared lib\n",
    "lib = ctypes.CDLL('./cuda_tools/libipc_tensor_tool.so')\n",
    "lib.export_ipc_handle.argtypes = [ctypes.c_void_p, ctypes.c_void_p]\n",
    "lib.export_ipc_handle.restype = ctypes.c_int\n",
    "\n",
    "def get_ipc_handle(tensor: torch.Tensor) -> bytes:\n",
    "    \n",
    "    meta={\n",
    "        \"shape\": tensor.shape,\n",
    "        \"dtype\": str(tensor.dtype),\n",
    "        \"device\": int(tensor.device.index),\n",
    "    }\n",
    "    if not tensor.is_cuda:\n",
    "        raise ValueError(\"Tensor must be on CUDA device\")\n",
    "\n",
    "    dev_ptr = tensor.data_ptr()\n",
    "    out = ctypes.create_string_buffer(64)\n",
    "\n",
    "    result = lib.export_ipc_handle(ctypes.c_void_p(dev_ptr), out)\n",
    "    if result != 0:\n",
    "        raise RuntimeError(f\"export_ipc_handle failed with code {result}\")\n",
    "\n",
    "    return out.raw, meta  # This is the 64-byte IPC handle"
   ]
  },
  {
   "cell_type": "code",
   "execution_count": 3,
   "id": "5279cd81",
   "metadata": {},
   "outputs": [],
   "source": [
    "tensor = torch.randn(10, device='cuda:0',dtype=torch.float32)\n",
    "handler, meta = get_ipc_handle(tensor)"
   ]
  },
  {
   "cell_type": "code",
   "execution_count": 4,
   "id": "27c8a40b",
   "metadata": {},
   "outputs": [
    {
     "data": {
      "text/plain": [
       "64"
      ]
     },
     "execution_count": 4,
     "metadata": {},
     "output_type": "execute_result"
    }
   ],
   "source": [
    "len(handler)"
   ]
  },
  {
   "cell_type": "code",
   "execution_count": 5,
   "id": "1d3362f8",
   "metadata": {},
   "outputs": [],
   "source": [
    "import requests\n",
    "import json\n",
    "\n",
    "# 准备数据\n",
    "byte_data = handler # 示例 bytes 数据\n",
    "map_data = meta  # 示例 map 数据\n",
    "\n",
    "# 构建 multipart/form-data 请求\n",
    "files = {\n",
    "    'byte_data': ('data.bin', byte_data, 'application/octet-stream')\n",
    "}\n",
    "\n",
    "data = {\n",
    "    'map_data': json.dumps(map_data)\n",
    "}\n",
    "\n",
    "# 发送 POST 请求\n",
    "response = requests.post(\n",
    "    'http://localhost:1177/upload',\n",
    "    files=files,\n",
    "    data=data\n",
    ")\n",
    "\n",
    "restored_tensor = torch.tensor(response.json()['restored_tensor'], device='cuda:0')\n"
   ]
  },
  {
   "cell_type": "code",
   "execution_count": 6,
   "id": "1a438e25",
   "metadata": {},
   "outputs": [
    {
     "data": {
      "text/plain": [
       "True"
      ]
     },
     "execution_count": 6,
     "metadata": {},
     "output_type": "execute_result"
    }
   ],
   "source": [
    "torch.equal(tensor, restored_tensor)"
   ]
  },
  {
   "cell_type": "code",
   "execution_count": null,
   "id": "61d6a376",
   "metadata": {},
   "outputs": [],
   "source": []
  }
 ],
 "metadata": {
  "kernelspec": {
   "display_name": "myllm",
   "language": "python",
   "name": "python3"
  },
  "language_info": {
   "codemirror_mode": {
    "name": "ipython",
    "version": 3
   },
   "file_extension": ".py",
   "mimetype": "text/x-python",
   "name": "python",
   "nbconvert_exporter": "python",
   "pygments_lexer": "ipython3",
   "version": "3.10.12"
  }
 },
 "nbformat": 4,
 "nbformat_minor": 5
}
